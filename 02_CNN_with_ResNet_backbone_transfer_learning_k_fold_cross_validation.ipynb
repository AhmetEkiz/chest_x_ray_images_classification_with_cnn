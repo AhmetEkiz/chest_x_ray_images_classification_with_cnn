{
 "cells": [
  {
   "cell_type": "markdown",
   "id": "371229ca",
   "metadata": {},
   "source": [
    "# The CNN with ResNet backbone by transfer learning 5-10 K-fold Cross Validation\n",
    "\n",
    "CHEST X-RAY IMAGES CLASSIFICATION WITH CNN"
   ]
  },
  {
   "cell_type": "code",
   "execution_count": 1,
   "id": "133e58e6",
   "metadata": {},
   "outputs": [
    {
     "name": "stdout",
     "output_type": "stream",
     "text": [
      "tensorflow version: 2.10.0\n",
      "numpy version: 1.23.4\n",
      "pandas version: 1.5.1\n"
     ]
    }
   ],
   "source": [
    "import tensorflow as tf\n",
    "import numpy as np\n",
    "import pandas as pd\n",
    "from matplotlib import pyplot as plt\n",
    "\n",
    "import os, shutil, pathlib\n",
    "\n",
    "\n",
    "print(\"tensorflow version:\", tf.__version__)\n",
    "print(\"numpy version:\", np.__version__)\n",
    "print(\"pandas version:\", pd.__version__)"
   ]
  },
  {
   "cell_type": "markdown",
   "id": "945c545e",
   "metadata": {},
   "source": [
    "## Paths of Data"
   ]
  },
  {
   "cell_type": "code",
   "execution_count": 3,
   "id": "198049bc",
   "metadata": {},
   "outputs": [
    {
     "data": {
      "text/plain": [
       "'../data/20210708_görüntüler'"
      ]
     },
     "execution_count": 3,
     "metadata": {},
     "output_type": "execute_result"
    }
   ],
   "source": [
    "DATA_PATH = \"../data\"\n",
    "RAW_DATASET_NAME = \"20210708_görüntüler\"   # raw dataset folder name\n",
    "SUB_FOLDERS_PATH = f\"{DATA_PATH}/{RAW_DATASET_NAME}\"  # sub class folders\n",
    "\n",
    "SUB_FOLDERS_PATH"
   ]
  },
  {
   "cell_type": "code",
   "execution_count": 4,
   "id": "4016f06c",
   "metadata": {},
   "outputs": [
    {
     "data": {
      "text/plain": [
       "['20210708_görüntüler', 'images_1', 'manuel_differet_person']"
      ]
     },
     "execution_count": 4,
     "metadata": {},
     "output_type": "execute_result"
    }
   ],
   "source": [
    "os.listdir(DATA_PATH)"
   ]
  },
  {
   "cell_type": "code",
   "execution_count": 5,
   "id": "679c3869",
   "metadata": {},
   "outputs": [
    {
     "data": {
      "text/plain": [
       "{'covid+ ac grafileri': 'covid',\n",
       " 'infiltratif akciğer hastası grafileri': 'infiltiratif',\n",
       " 'normal akciğer grafileri': 'normal'}"
      ]
     },
     "execution_count": 5,
     "metadata": {},
     "output_type": "execute_result"
    }
   ],
   "source": [
    "labels = {\"covid+ ac grafileri\" : \"covid\",\n",
    "         \"infiltratif akciğer hastası grafileri\" : \"infiltiratif\",\n",
    "         \"normal akciğer grafileri\": \"normal\"}\n",
    "\n",
    "labels"
   ]
  },
  {
   "cell_type": "markdown",
   "id": "f013e1a5",
   "metadata": {},
   "source": [
    "# Prepare Data"
   ]
  },
  {
   "cell_type": "code",
   "execution_count": 6,
   "id": "6a731c52",
   "metadata": {},
   "outputs": [],
   "source": [
    "def dataframe_for_folders(DATA_PATH, DATASET_NAME, labels):\n",
    "    \"\"\"create dataframe from data folders that every folder has one class data\n",
    "    \n",
    "    It prepares dataframe to put in  TF flow_from_dataframe function\n",
    "    \n",
    "    Args:\n",
    "        DATA_PATH : parent folder relative path of DATASET_NAME. It contains all of data files.\n",
    "        DATASET_NAME : dataset name which wanted to use - path from DATA_PATH to classes folders\n",
    "        labels: a dict that contains folder names according to classes\n",
    "        \n",
    "    Returns:\n",
    "        A pandas dataframe that has relative path to the dataset_name of data and labels\n",
    "    \"\"\"\n",
    "    CLASS_FOLDERS_PATHS = os.listdir(f\"{DATA_PATH}/{DATASET_NAME}\")\n",
    "    \n",
    "    df = pd.DataFrame(columns=[\"path\", \"label\"])  # empty dataframe\n",
    "    \n",
    "    for i in CLASS_FOLDERS_PATHS:\n",
    "        # list files - images\n",
    "        list_of_files = os.listdir(f\"{DATASET_NAME}/{i}\")\n",
    "        \n",
    "        for k, name in enumerate(list_of_files):\n",
    "            list_of_files[k] = f\"{i}/\"+name       # add parent folder\n",
    "\n",
    "        df = pd.concat([df, pd.DataFrame(list_of_files, columns=[\"path\"])], ignore_index=True)\n",
    "        df.fillna(labels[i], inplace=True)  # label column is NaN, so we put labels every iteration. because every folder has one class        \n",
    "    \n",
    "#     df.reset_index(inplace = True)  \n",
    "    \n",
    "    return df"
   ]
  },
  {
   "cell_type": "code",
   "execution_count": 9,
   "id": "58d4b93a",
   "metadata": {},
   "outputs": [
    {
     "name": "stdout",
     "output_type": "stream",
     "text": [
      "<class 'pandas.core.frame.DataFrame'>\n",
      "RangeIndex: 336 entries, 0 to 335\n",
      "Data columns (total 2 columns):\n",
      " #   Column  Non-Null Count  Dtype \n",
      "---  ------  --------------  ----- \n",
      " 0   path    336 non-null    object\n",
      " 1   label   336 non-null    object\n",
      "dtypes: object(2)\n",
      "memory usage: 5.4+ KB\n"
     ]
    }
   ],
   "source": [
    "df.info()"
   ]
  },
  {
   "cell_type": "markdown",
   "id": "dacf0329",
   "metadata": {},
   "source": [
    "# CNN Model"
   ]
  },
  {
   "cell_type": "code",
   "execution_count": 10,
   "id": "e0f4edf4",
   "metadata": {},
   "outputs": [],
   "source": [
    "from tensorflow import keras\n",
    "from tensorflow.keras import layers\n",
    "from tensorflow.keras.preprocessing.image import ImageDataGenerator\n",
    "\n",
    "from sklearn.model_selection import StratifiedKFold"
   ]
  },
  {
   "cell_type": "code",
   "execution_count": 11,
   "id": "d55a9ac6",
   "metadata": {},
   "outputs": [],
   "source": [
    "width = 480\n",
    "height = 480\n",
    "\n",
    "input_size = (width, height)\n",
    "input_shape = (width, height,3)\n",
    "\n",
    "batch_size = 16\n",
    "val_batch_size = 8\n",
    "test_batch_size = 8\n",
    "\n",
    "epochs = 10\n",
    "\n",
    "resnet50 = tf.keras.applications.resnet50.ResNet50(include_top=False,\n",
    "                                                   weights='imagenet',\n",
    "                                                   input_shape=input_shape,\n",
    "                                                   pooling=None)\n",
    "\n",
    "resnet50.trainable = False\n",
    "\n",
    "\n",
    "def build_model(input_shape=input_shape):\n",
    "\n",
    "    inputs = keras.Input(shape=input_shape)\n",
    "    x = tf.keras.applications.resnet50.preprocess_input(inputs)\n",
    "    x = resnet50(x)\n",
    "    x = layers.Flatten()(x)\n",
    "    \n",
    "    x = layers.Dense(64, activation=\"relu\")(x)\n",
    "    x = layers.BatchNormalization()(x)\n",
    "    outputs = layers.Dense(3, activation=\"softmax\")(x)\n",
    "    \n",
    "    model = keras.Model(inputs=inputs, outputs=outputs)\n",
    "    \n",
    "    model.compile(loss=\"categorical_crossentropy\", optimizer=\"rmsprop\", metrics=[\"accuracy\"])\n",
    "    \n",
    "    return model"
   ]
  },
  {
   "cell_type": "markdown",
   "id": "3ba07853",
   "metadata": {},
   "source": [
    "# K-fold Validation - 5 splits"
   ]
  },
  {
   "cell_type": "code",
   "execution_count": 11,
   "id": "fb28b66a",
   "metadata": {},
   "outputs": [
    {
     "data": {
      "text/plain": [
       "'../data/20210708_görüntüler'"
      ]
     },
     "execution_count": 11,
     "metadata": {},
     "output_type": "execute_result"
    }
   ],
   "source": [
    "SUB_FOLDERS_PATH"
   ]
  },
  {
   "cell_type": "code",
   "execution_count": 12,
   "id": "d0b7d261",
   "metadata": {},
   "outputs": [
    {
     "name": "stdout",
     "output_type": "stream",
     "text": [
      "length of train_index:  268\n",
      "length of test_index:  68\n",
      "\n",
      "length of train_index:  269\n",
      "length of test_index:  67\n",
      "\n",
      "length of train_index:  269\n",
      "length of test_index:  67\n",
      "\n",
      "length of train_index:  269\n",
      "length of test_index:  67\n",
      "\n",
      "length of train_index:  269\n",
      "length of test_index:  67\n",
      "\n"
     ]
    }
   ],
   "source": [
    "# stratified k-fold splits data for a percentage of samples for each class\n",
    "cv = StratifiedKFold(n_splits=5,shuffle=False)\n",
    "\n",
    "for train_index, test_index in cv.split(df, df.label):\n",
    "    print(\"length of train_index: \", len(train_index))\n",
    "    print(\"length of test_index: \", len(test_index))\n",
    "    print()"
   ]
  },
  {
   "cell_type": "code",
   "execution_count": 13,
   "id": "c244161e",
   "metadata": {},
   "outputs": [
    {
     "name": "stdout",
     "output_type": "stream",
     "text": [
      "\n",
      "-----------------------------\n",
      "Initializing Kfold 0\n",
      "Train shape: (268, 2)\n",
      "Test shape: (68, 2)\n",
      "Found 268 validated image filenames belonging to 3 classes.\n",
      "Found 68 validated image filenames belonging to 3 classes.\n",
      "train_loss:  0.027168313041329384   train_accuracy 0.9925373196601868\n",
      "val_loss:  0.5896450281143188   val_accuracy:  0.8235294222831726\n",
      "\n",
      "-----------------------------\n",
      "Initializing Kfold 1\n",
      "Train shape: (269, 2)\n",
      "Test shape: (67, 2)\n",
      "Found 269 validated image filenames belonging to 3 classes.\n",
      "Found 67 validated image filenames belonging to 3 classes.\n",
      "train_loss:  0.0011068370658904314   train_accuracy 1.0\n",
      "val_loss:  0.9932782649993896   val_accuracy:  0.8208954930305481\n",
      "\n",
      "-----------------------------\n",
      "Initializing Kfold 2\n",
      "Train shape: (269, 2)\n",
      "Test shape: (67, 2)\n",
      "Found 269 validated image filenames belonging to 3 classes.\n",
      "Found 67 validated image filenames belonging to 3 classes.\n",
      "train_loss:  0.0002739644260145724   train_accuracy 1.0\n",
      "val_loss:  0.6992576718330383   val_accuracy:  0.8507462739944458\n",
      "\n",
      "-----------------------------\n",
      "Initializing Kfold 3\n",
      "Train shape: (269, 2)\n",
      "Test shape: (67, 2)\n",
      "Found 269 validated image filenames belonging to 3 classes.\n",
      "Found 67 validated image filenames belonging to 3 classes.\n",
      "train_loss:  0.00289583089761436   train_accuracy 1.0\n",
      "val_loss:  0.6284764409065247   val_accuracy:  0.8208954930305481\n",
      "\n",
      "-----------------------------\n",
      "Initializing Kfold 4\n",
      "Train shape: (269, 2)\n",
      "Test shape: (67, 2)\n",
      "Found 269 validated image filenames belonging to 3 classes.\n",
      "Found 67 validated image filenames belonging to 3 classes.\n",
      "train_loss:  0.0009938741568475962   train_accuracy 1.0\n",
      "val_loss:  0.4520285129547119   val_accuracy:  0.89552241563797\n"
     ]
    }
   ],
   "source": [
    "k = 0\n",
    "\n",
    "all_train_scores = []   # all train scores on k-fold test data\n",
    "all_val_scores = []   # all validation scores on k-fold test data\n",
    "\n",
    "\n",
    "for train_index, test_index in cv.split(df, df.label):\n",
    "    \n",
    "    df_train = df.iloc[train_index]\n",
    "    df_test = df.iloc[test_index]\n",
    "    \n",
    "    print(\"\\n-----------------------------\")\n",
    "    print('Initializing Kfold %s'%str(k))\n",
    "    print('Train shape:', df_train.shape)\n",
    "    print('Test shape:', df_test.shape)\n",
    "    \n",
    "\n",
    "    \n",
    "    # rescaling was not used because rescaling was used in model layers.    \n",
    "    train_datagen = ImageDataGenerator()\n",
    "\n",
    "    train_generator = train_datagen.flow_from_dataframe(dataframe=df_train,\n",
    "                                                directory=SUB_FOLDERS_PATH,\n",
    "                                                x_col=\"path\",\n",
    "                                                y_col=\"label\",\n",
    "                                                batch_size=batch_size,\n",
    "                                                seed=42,\n",
    "                                                shuffle=True,\n",
    "                                                class_mode=\"categorical\",\n",
    "                                                target_size=input_size)\n",
    "\n",
    "    validation_generator = train_datagen.flow_from_dataframe(dataframe=df_test,\n",
    "                                                directory=SUB_FOLDERS_PATH,\n",
    "                                                x_col=\"path\",\n",
    "                                                y_col=\"label\",\n",
    "                                                batch_size=val_batch_size,\n",
    "                                                seed=42,\n",
    "                                                shuffle=True,\n",
    "                                                class_mode=\"categorical\",\n",
    "                                                target_size=input_size)\n",
    "    \n",
    "    model = build_model(input_shape)\n",
    "    model.fit(train_generator, epochs=epochs, batch_size=batch_size, verbose=0)\n",
    "    \n",
    "    train_generator.reset()\n",
    "    train_loss, train_accuracy = model.evaluate(train_generator, verbose=0)\n",
    "    print(\"train_loss: \", train_loss, \"  train_accuracy\", train_accuracy)\n",
    "    all_train_scores.append(train_accuracy)\n",
    "    \n",
    "    validation_generator.reset()\n",
    "    val_loss, val_accuracy = model.evaluate(validation_generator, verbose=0)\n",
    "    print(\"val_loss: \", val_loss, \"  val_accuracy: \", val_accuracy)\n",
    "    all_val_scores.append(val_accuracy)\n",
    "    \n",
    "    k+=1\n",
    "    "
   ]
  },
  {
   "cell_type": "code",
   "execution_count": 14,
   "id": "326f8213",
   "metadata": {},
   "outputs": [
    {
     "name": "stdout",
     "output_type": "stream",
     "text": [
      "All train scores:  [0.9925373196601868, 1.0, 1.0, 1.0, 1.0]\n",
      "\n",
      "Mean of all train scores:  0.9985074639320374\n",
      "\n",
      "All validation scores:  [0.8235294222831726, 0.8208954930305481, 0.8507462739944458, 0.8208954930305481, 0.89552241563797]\n",
      "\n",
      "Mean of all validation scores:  0.8423178195953369\n"
     ]
    }
   ],
   "source": [
    "print(\"All train scores: \", all_train_scores)\n",
    "print(\"\\nMean of all train scores: \", np.mean(all_train_scores))\n",
    "print(\"\\nAll validation scores: \", all_val_scores)\n",
    "print(\"\\nMean of all validation scores: \", np.mean(all_val_scores))"
   ]
  },
  {
   "cell_type": "markdown",
   "id": "769886da",
   "metadata": {},
   "source": [
    "# K-fold Validation - 10 splits"
   ]
  },
  {
   "cell_type": "code",
   "execution_count": 12,
   "id": "407dce42",
   "metadata": {},
   "outputs": [
    {
     "name": "stdout",
     "output_type": "stream",
     "text": [
      "length of train_index:  302\n",
      "length of test_index:  34\n",
      "\n",
      "length of train_index:  302\n",
      "length of test_index:  34\n",
      "\n",
      "length of train_index:  302\n",
      "length of test_index:  34\n",
      "\n",
      "length of train_index:  302\n",
      "length of test_index:  34\n",
      "\n",
      "length of train_index:  302\n",
      "length of test_index:  34\n",
      "\n",
      "length of train_index:  302\n",
      "length of test_index:  34\n",
      "\n",
      "length of train_index:  303\n",
      "length of test_index:  33\n",
      "\n",
      "length of train_index:  303\n",
      "length of test_index:  33\n",
      "\n",
      "length of train_index:  303\n",
      "length of test_index:  33\n",
      "\n",
      "length of train_index:  303\n",
      "length of test_index:  33\n",
      "\n"
     ]
    }
   ],
   "source": [
    "# stratified k-fold splits data for a percentage of samples for each class\n",
    "cv = StratifiedKFold(n_splits=10,shuffle=False)\n",
    "\n",
    "for train_index, test_index in cv.split(df, df.label):\n",
    "    print(\"length of train_index: \", len(train_index))\n",
    "    print(\"length of test_index: \", len(test_index))\n",
    "    print()"
   ]
  },
  {
   "cell_type": "code",
   "execution_count": 13,
   "id": "fd93be55",
   "metadata": {},
   "outputs": [
    {
     "name": "stdout",
     "output_type": "stream",
     "text": [
      "\n",
      "-----------------------------\n",
      "Initializing Kfold 0\n",
      "Train shape: (302, 2)\n",
      "Test shape: (34, 2)\n",
      "Found 302 validated image filenames belonging to 3 classes.\n",
      "Found 34 validated image filenames belonging to 3 classes.\n"
     ]
    },
    {
     "ename": "ResourceExhaustedError",
     "evalue": "Graph execution error:\n\nDetected at node 'model/resnet50/conv2_block1_3_bn/FusedBatchNormV3' defined at (most recent call last):\n    File \"C:\\Users\\ekizo\\anaconda3\\envs\\tensorflow\\lib\\runpy.py\", line 197, in _run_module_as_main\n      return _run_code(code, main_globals, None,\n    File \"C:\\Users\\ekizo\\anaconda3\\envs\\tensorflow\\lib\\runpy.py\", line 87, in _run_code\n      exec(code, run_globals)\n    File \"C:\\Users\\ekizo\\anaconda3\\envs\\tensorflow\\lib\\site-packages\\ipykernel_launcher.py\", line 16, in <module>\n      app.launch_new_instance()\n    File \"C:\\Users\\ekizo\\anaconda3\\envs\\tensorflow\\lib\\site-packages\\traitlets\\config\\application.py\", line 846, in launch_instance\n      app.start()\n    File \"C:\\Users\\ekizo\\anaconda3\\envs\\tensorflow\\lib\\site-packages\\ipykernel\\kernelapp.py\", line 677, in start\n      self.io_loop.start()\n    File \"C:\\Users\\ekizo\\anaconda3\\envs\\tensorflow\\lib\\site-packages\\tornado\\platform\\asyncio.py\", line 199, in start\n      self.asyncio_loop.run_forever()\n    File \"C:\\Users\\ekizo\\anaconda3\\envs\\tensorflow\\lib\\asyncio\\base_events.py\", line 601, in run_forever\n      self._run_once()\n    File \"C:\\Users\\ekizo\\anaconda3\\envs\\tensorflow\\lib\\asyncio\\base_events.py\", line 1905, in _run_once\n      handle._run()\n    File \"C:\\Users\\ekizo\\anaconda3\\envs\\tensorflow\\lib\\asyncio\\events.py\", line 80, in _run\n      self._context.run(self._callback, *self._args)\n    File \"C:\\Users\\ekizo\\anaconda3\\envs\\tensorflow\\lib\\site-packages\\ipykernel\\kernelbase.py\", line 471, in dispatch_queue\n      await self.process_one()\n    File \"C:\\Users\\ekizo\\anaconda3\\envs\\tensorflow\\lib\\site-packages\\ipykernel\\kernelbase.py\", line 460, in process_one\n      await dispatch(*args)\n    File \"C:\\Users\\ekizo\\anaconda3\\envs\\tensorflow\\lib\\site-packages\\ipykernel\\kernelbase.py\", line 367, in dispatch_shell\n      await result\n    File \"C:\\Users\\ekizo\\anaconda3\\envs\\tensorflow\\lib\\site-packages\\ipykernel\\kernelbase.py\", line 662, in execute_request\n      reply_content = await reply_content\n    File \"C:\\Users\\ekizo\\anaconda3\\envs\\tensorflow\\lib\\site-packages\\ipykernel\\ipkernel.py\", line 360, in do_execute\n      res = shell.run_cell(code, store_history=store_history, silent=silent)\n    File \"C:\\Users\\ekizo\\anaconda3\\envs\\tensorflow\\lib\\site-packages\\ipykernel\\zmqshell.py\", line 532, in run_cell\n      return super().run_cell(*args, **kwargs)\n    File \"C:\\Users\\ekizo\\anaconda3\\envs\\tensorflow\\lib\\site-packages\\IPython\\core\\interactiveshell.py\", line 2880, in run_cell\n      result = self._run_cell(\n    File \"C:\\Users\\ekizo\\anaconda3\\envs\\tensorflow\\lib\\site-packages\\IPython\\core\\interactiveshell.py\", line 2935, in _run_cell\n      return runner(coro)\n    File \"C:\\Users\\ekizo\\anaconda3\\envs\\tensorflow\\lib\\site-packages\\IPython\\core\\async_helpers.py\", line 129, in _pseudo_sync_runner\n      coro.send(None)\n    File \"C:\\Users\\ekizo\\anaconda3\\envs\\tensorflow\\lib\\site-packages\\IPython\\core\\interactiveshell.py\", line 3134, in run_cell_async\n      has_raised = await self.run_ast_nodes(code_ast.body, cell_name,\n    File \"C:\\Users\\ekizo\\anaconda3\\envs\\tensorflow\\lib\\site-packages\\IPython\\core\\interactiveshell.py\", line 3337, in run_ast_nodes\n      if await self.run_code(code, result, async_=asy):\n    File \"C:\\Users\\ekizo\\anaconda3\\envs\\tensorflow\\lib\\site-packages\\IPython\\core\\interactiveshell.py\", line 3397, in run_code\n      exec(code_obj, self.user_global_ns, self.user_ns)\n    File \"C:\\Users\\ekizo\\AppData\\Local\\Temp\\ipykernel_20460\\680723563.py\", line 1, in <cell line: 1>\n      get_ipython().run_cell_magic('time', '', '\\nk = 0\\n\\nall_train_scores = []   # all train scores on k-fold test data\\nall_val_scores = []   # all validation scores on k-fold test data\\n\\n\\nfor train_index, test_index in cv.split(df, df.label):\\n    \\n    df_train = df.iloc[train_index]\\n    df_test = df.iloc[test_index]\\n    \\n    print(\"\\\\n-----------------------------\")\\n    print(\\'Initializing Kfold %s\\'%str(k))\\n    print(\\'Train shape:\\', df_train.shape)\\n    print(\\'Test shape:\\', df_test.shape)\\n    \\n\\n    \\n    # rescaling was not used because rescaling was used in model layers.    \\n    train_datagen = ImageDataGenerator()\\n\\n    train_generator = train_datagen.flow_from_dataframe(dataframe=df_train,\\n                                                directory=SUB_FOLDERS_PATH,\\n                                                x_col=\"path\",\\n                                                y_col=\"label\",\\n                                                batch_size=batch_size,\\n                                                seed=42,\\n                                                shuffle=True,\\n                                                class_mode=\"categorical\",\\n                                                target_size=input_size)\\n\\n    validation_generator = train_datagen.flow_from_dataframe(dataframe=df_test,\\n                                                directory=SUB_FOLDERS_PATH,\\n                                                x_col=\"path\",\\n                                                y_col=\"label\",\\n                                                batch_size=val_batch_size,\\n                                                seed=42,\\n                                                shuffle=True,\\n                                                class_mode=\"categorical\",\\n                                                target_size=input_size)\\n    \\n    model = build_model(input_shape)\\n    model.fit(train_generator, epochs=epochs, batch_size=batch_size, verbose = 0)\\n    \\n    train_generator.reset()\\n    train_loss, train_accuracy = model.evaluate(train_generator, verbose=0)\\n    print(\"train_loss: \", train_loss, \"  train_accuracy\", train_accuracy)\\n    all_train_scores.append(train_accuracy)\\n    \\n    validation_generator.reset()\\n    val_loss, val_accuracy = model.evaluate(validation_generator, verbose=0)\\n    print(\"val_loss: \", val_loss, \"  val_accuracy: \", val_accuracy)\\n    all_val_scores.append(val_accuracy)\\n    \\n    k+=1\\n    \\n')\n    File \"C:\\Users\\ekizo\\anaconda3\\envs\\tensorflow\\lib\\site-packages\\IPython\\core\\interactiveshell.py\", line 2357, in run_cell_magic\n      result = fn(*args, **kwargs)\n    File \"C:\\Users\\ekizo\\anaconda3\\envs\\tensorflow\\lib\\site-packages\\IPython\\core\\magics\\execution.py\", line 1316, in time\n      exec(code, glob, local_ns)\n    File \"<timed exec>\", line 43, in <module>\n    File \"C:\\Users\\ekizo\\anaconda3\\envs\\tensorflow\\lib\\site-packages\\keras\\utils\\traceback_utils.py\", line 65, in error_handler\n      return fn(*args, **kwargs)\n    File \"C:\\Users\\ekizo\\anaconda3\\envs\\tensorflow\\lib\\site-packages\\keras\\engine\\training.py\", line 1564, in fit\n      tmp_logs = self.train_function(iterator)\n    File \"C:\\Users\\ekizo\\anaconda3\\envs\\tensorflow\\lib\\site-packages\\keras\\engine\\training.py\", line 1160, in train_function\n      return step_function(self, iterator)\n    File \"C:\\Users\\ekizo\\anaconda3\\envs\\tensorflow\\lib\\site-packages\\keras\\engine\\training.py\", line 1146, in step_function\n      outputs = model.distribute_strategy.run(run_step, args=(data,))\n    File \"C:\\Users\\ekizo\\anaconda3\\envs\\tensorflow\\lib\\site-packages\\keras\\engine\\training.py\", line 1135, in run_step\n      outputs = model.train_step(data)\n    File \"C:\\Users\\ekizo\\anaconda3\\envs\\tensorflow\\lib\\site-packages\\keras\\engine\\training.py\", line 993, in train_step\n      y_pred = self(x, training=True)\n    File \"C:\\Users\\ekizo\\anaconda3\\envs\\tensorflow\\lib\\site-packages\\keras\\utils\\traceback_utils.py\", line 65, in error_handler\n      return fn(*args, **kwargs)\n    File \"C:\\Users\\ekizo\\anaconda3\\envs\\tensorflow\\lib\\site-packages\\keras\\engine\\training.py\", line 557, in __call__\n      return super().__call__(*args, **kwargs)\n    File \"C:\\Users\\ekizo\\anaconda3\\envs\\tensorflow\\lib\\site-packages\\keras\\utils\\traceback_utils.py\", line 65, in error_handler\n      return fn(*args, **kwargs)\n    File \"C:\\Users\\ekizo\\anaconda3\\envs\\tensorflow\\lib\\site-packages\\keras\\engine\\base_layer.py\", line 1097, in __call__\n      outputs = call_fn(inputs, *args, **kwargs)\n    File \"C:\\Users\\ekizo\\anaconda3\\envs\\tensorflow\\lib\\site-packages\\keras\\utils\\traceback_utils.py\", line 96, in error_handler\n      return fn(*args, **kwargs)\n    File \"C:\\Users\\ekizo\\anaconda3\\envs\\tensorflow\\lib\\site-packages\\keras\\engine\\functional.py\", line 510, in call\n      return self._run_internal_graph(inputs, training=training, mask=mask)\n    File \"C:\\Users\\ekizo\\anaconda3\\envs\\tensorflow\\lib\\site-packages\\keras\\engine\\functional.py\", line 667, in _run_internal_graph\n      outputs = node.layer(*args, **kwargs)\n    File \"C:\\Users\\ekizo\\anaconda3\\envs\\tensorflow\\lib\\site-packages\\keras\\utils\\traceback_utils.py\", line 65, in error_handler\n      return fn(*args, **kwargs)\n    File \"C:\\Users\\ekizo\\anaconda3\\envs\\tensorflow\\lib\\site-packages\\keras\\engine\\training.py\", line 557, in __call__\n      return super().__call__(*args, **kwargs)\n    File \"C:\\Users\\ekizo\\anaconda3\\envs\\tensorflow\\lib\\site-packages\\keras\\utils\\traceback_utils.py\", line 65, in error_handler\n      return fn(*args, **kwargs)\n    File \"C:\\Users\\ekizo\\anaconda3\\envs\\tensorflow\\lib\\site-packages\\keras\\engine\\base_layer.py\", line 1097, in __call__\n      outputs = call_fn(inputs, *args, **kwargs)\n    File \"C:\\Users\\ekizo\\anaconda3\\envs\\tensorflow\\lib\\site-packages\\keras\\utils\\traceback_utils.py\", line 96, in error_handler\n      return fn(*args, **kwargs)\n    File \"C:\\Users\\ekizo\\anaconda3\\envs\\tensorflow\\lib\\site-packages\\keras\\engine\\functional.py\", line 510, in call\n      return self._run_internal_graph(inputs, training=training, mask=mask)\n    File \"C:\\Users\\ekizo\\anaconda3\\envs\\tensorflow\\lib\\site-packages\\keras\\engine\\functional.py\", line 667, in _run_internal_graph\n      outputs = node.layer(*args, **kwargs)\n    File \"C:\\Users\\ekizo\\anaconda3\\envs\\tensorflow\\lib\\site-packages\\keras\\utils\\traceback_utils.py\", line 65, in error_handler\n      return fn(*args, **kwargs)\n    File \"C:\\Users\\ekizo\\anaconda3\\envs\\tensorflow\\lib\\site-packages\\keras\\engine\\base_layer.py\", line 1097, in __call__\n      outputs = call_fn(inputs, *args, **kwargs)\n    File \"C:\\Users\\ekizo\\anaconda3\\envs\\tensorflow\\lib\\site-packages\\keras\\utils\\traceback_utils.py\", line 96, in error_handler\n      return fn(*args, **kwargs)\n    File \"C:\\Users\\ekizo\\anaconda3\\envs\\tensorflow\\lib\\site-packages\\keras\\layers\\normalization\\batch_normalization.py\", line 850, in call\n      outputs = self._fused_batch_norm(inputs, training=training)\n    File \"C:\\Users\\ekizo\\anaconda3\\envs\\tensorflow\\lib\\site-packages\\keras\\layers\\normalization\\batch_normalization.py\", line 660, in _fused_batch_norm\n      output, mean, variance = control_flow_util.smart_cond(\n    File \"C:\\Users\\ekizo\\anaconda3\\envs\\tensorflow\\lib\\site-packages\\keras\\utils\\control_flow_util.py\", line 108, in smart_cond\n      return tf.__internal__.smart_cond.smart_cond(\n    File \"C:\\Users\\ekizo\\anaconda3\\envs\\tensorflow\\lib\\site-packages\\keras\\layers\\normalization\\batch_normalization.py\", line 649, in _fused_batch_norm_inference\n      return tf.compat.v1.nn.fused_batch_norm(\nNode: 'model/resnet50/conv2_block1_3_bn/FusedBatchNormV3'\nOOM when allocating tensor with shape[16,256,120,120] and type float on /job:localhost/replica:0/task:0/device:GPU:0 by allocator GPU_0_bfc\n\t [[{{node model/resnet50/conv2_block1_3_bn/FusedBatchNormV3}}]]\nHint: If you want to see a list of allocated tensors when OOM happens, add report_tensor_allocations_upon_oom to RunOptions for current allocation info. This isn't available when running in Eager mode.\n [Op:__inference_train_function_10383]",
     "output_type": "error",
     "traceback": [
      "\u001b[1;31m---------------------------------------------------------------------------\u001b[0m",
      "\u001b[1;31mResourceExhaustedError\u001b[0m                    Traceback (most recent call last)",
      "File \u001b[1;32m<timed exec>:43\u001b[0m, in \u001b[0;36m<module>\u001b[1;34m\u001b[0m\n",
      "File \u001b[1;32m~\\anaconda3\\envs\\tensorflow\\lib\\site-packages\\keras\\utils\\traceback_utils.py:70\u001b[0m, in \u001b[0;36mfilter_traceback.<locals>.error_handler\u001b[1;34m(*args, **kwargs)\u001b[0m\n\u001b[0;32m     67\u001b[0m     filtered_tb \u001b[38;5;241m=\u001b[39m _process_traceback_frames(e\u001b[38;5;241m.\u001b[39m__traceback__)\n\u001b[0;32m     68\u001b[0m     \u001b[38;5;66;03m# To get the full stack trace, call:\u001b[39;00m\n\u001b[0;32m     69\u001b[0m     \u001b[38;5;66;03m# `tf.debugging.disable_traceback_filtering()`\u001b[39;00m\n\u001b[1;32m---> 70\u001b[0m     \u001b[38;5;28;01mraise\u001b[39;00m e\u001b[38;5;241m.\u001b[39mwith_traceback(filtered_tb) \u001b[38;5;28;01mfrom\u001b[39;00m \u001b[38;5;28mNone\u001b[39m\n\u001b[0;32m     71\u001b[0m \u001b[38;5;28;01mfinally\u001b[39;00m:\n\u001b[0;32m     72\u001b[0m     \u001b[38;5;28;01mdel\u001b[39;00m filtered_tb\n",
      "File \u001b[1;32m~\\anaconda3\\envs\\tensorflow\\lib\\site-packages\\tensorflow\\python\\eager\\execute.py:54\u001b[0m, in \u001b[0;36mquick_execute\u001b[1;34m(op_name, num_outputs, inputs, attrs, ctx, name)\u001b[0m\n\u001b[0;32m     52\u001b[0m \u001b[38;5;28;01mtry\u001b[39;00m:\n\u001b[0;32m     53\u001b[0m   ctx\u001b[38;5;241m.\u001b[39mensure_initialized()\n\u001b[1;32m---> 54\u001b[0m   tensors \u001b[38;5;241m=\u001b[39m pywrap_tfe\u001b[38;5;241m.\u001b[39mTFE_Py_Execute(ctx\u001b[38;5;241m.\u001b[39m_handle, device_name, op_name,\n\u001b[0;32m     55\u001b[0m                                       inputs, attrs, num_outputs)\n\u001b[0;32m     56\u001b[0m \u001b[38;5;28;01mexcept\u001b[39;00m core\u001b[38;5;241m.\u001b[39m_NotOkStatusException \u001b[38;5;28;01mas\u001b[39;00m e:\n\u001b[0;32m     57\u001b[0m   \u001b[38;5;28;01mif\u001b[39;00m name \u001b[38;5;129;01mis\u001b[39;00m \u001b[38;5;129;01mnot\u001b[39;00m \u001b[38;5;28;01mNone\u001b[39;00m:\n",
      "\u001b[1;31mResourceExhaustedError\u001b[0m: Graph execution error:\n\nDetected at node 'model/resnet50/conv2_block1_3_bn/FusedBatchNormV3' defined at (most recent call last):\n    File \"C:\\Users\\ekizo\\anaconda3\\envs\\tensorflow\\lib\\runpy.py\", line 197, in _run_module_as_main\n      return _run_code(code, main_globals, None,\n    File \"C:\\Users\\ekizo\\anaconda3\\envs\\tensorflow\\lib\\runpy.py\", line 87, in _run_code\n      exec(code, run_globals)\n    File \"C:\\Users\\ekizo\\anaconda3\\envs\\tensorflow\\lib\\site-packages\\ipykernel_launcher.py\", line 16, in <module>\n      app.launch_new_instance()\n    File \"C:\\Users\\ekizo\\anaconda3\\envs\\tensorflow\\lib\\site-packages\\traitlets\\config\\application.py\", line 846, in launch_instance\n      app.start()\n    File \"C:\\Users\\ekizo\\anaconda3\\envs\\tensorflow\\lib\\site-packages\\ipykernel\\kernelapp.py\", line 677, in start\n      self.io_loop.start()\n    File \"C:\\Users\\ekizo\\anaconda3\\envs\\tensorflow\\lib\\site-packages\\tornado\\platform\\asyncio.py\", line 199, in start\n      self.asyncio_loop.run_forever()\n    File \"C:\\Users\\ekizo\\anaconda3\\envs\\tensorflow\\lib\\asyncio\\base_events.py\", line 601, in run_forever\n      self._run_once()\n    File \"C:\\Users\\ekizo\\anaconda3\\envs\\tensorflow\\lib\\asyncio\\base_events.py\", line 1905, in _run_once\n      handle._run()\n    File \"C:\\Users\\ekizo\\anaconda3\\envs\\tensorflow\\lib\\asyncio\\events.py\", line 80, in _run\n      self._context.run(self._callback, *self._args)\n    File \"C:\\Users\\ekizo\\anaconda3\\envs\\tensorflow\\lib\\site-packages\\ipykernel\\kernelbase.py\", line 471, in dispatch_queue\n      await self.process_one()\n    File \"C:\\Users\\ekizo\\anaconda3\\envs\\tensorflow\\lib\\site-packages\\ipykernel\\kernelbase.py\", line 460, in process_one\n      await dispatch(*args)\n    File \"C:\\Users\\ekizo\\anaconda3\\envs\\tensorflow\\lib\\site-packages\\ipykernel\\kernelbase.py\", line 367, in dispatch_shell\n      await result\n    File \"C:\\Users\\ekizo\\anaconda3\\envs\\tensorflow\\lib\\site-packages\\ipykernel\\kernelbase.py\", line 662, in execute_request\n      reply_content = await reply_content\n    File \"C:\\Users\\ekizo\\anaconda3\\envs\\tensorflow\\lib\\site-packages\\ipykernel\\ipkernel.py\", line 360, in do_execute\n      res = shell.run_cell(code, store_history=store_history, silent=silent)\n    File \"C:\\Users\\ekizo\\anaconda3\\envs\\tensorflow\\lib\\site-packages\\ipykernel\\zmqshell.py\", line 532, in run_cell\n      return super().run_cell(*args, **kwargs)\n    File \"C:\\Users\\ekizo\\anaconda3\\envs\\tensorflow\\lib\\site-packages\\IPython\\core\\interactiveshell.py\", line 2880, in run_cell\n      result = self._run_cell(\n    File \"C:\\Users\\ekizo\\anaconda3\\envs\\tensorflow\\lib\\site-packages\\IPython\\core\\interactiveshell.py\", line 2935, in _run_cell\n      return runner(coro)\n    File \"C:\\Users\\ekizo\\anaconda3\\envs\\tensorflow\\lib\\site-packages\\IPython\\core\\async_helpers.py\", line 129, in _pseudo_sync_runner\n      coro.send(None)\n    File \"C:\\Users\\ekizo\\anaconda3\\envs\\tensorflow\\lib\\site-packages\\IPython\\core\\interactiveshell.py\", line 3134, in run_cell_async\n      has_raised = await self.run_ast_nodes(code_ast.body, cell_name,\n    File \"C:\\Users\\ekizo\\anaconda3\\envs\\tensorflow\\lib\\site-packages\\IPython\\core\\interactiveshell.py\", line 3337, in run_ast_nodes\n      if await self.run_code(code, result, async_=asy):\n    File \"C:\\Users\\ekizo\\anaconda3\\envs\\tensorflow\\lib\\site-packages\\IPython\\core\\interactiveshell.py\", line 3397, in run_code\n      exec(code_obj, self.user_global_ns, self.user_ns)\n    File \"C:\\Users\\ekizo\\AppData\\Local\\Temp\\ipykernel_20460\\680723563.py\", line 1, in <cell line: 1>\n      get_ipython().run_cell_magic('time', '', '\\nk = 0\\n\\nall_train_scores = []   # all train scores on k-fold test data\\nall_val_scores = []   # all validation scores on k-fold test data\\n\\n\\nfor train_index, test_index in cv.split(df, df.label):\\n    \\n    df_train = df.iloc[train_index]\\n    df_test = df.iloc[test_index]\\n    \\n    print(\"\\\\n-----------------------------\")\\n    print(\\'Initializing Kfold %s\\'%str(k))\\n    print(\\'Train shape:\\', df_train.shape)\\n    print(\\'Test shape:\\', df_test.shape)\\n    \\n\\n    \\n    # rescaling was not used because rescaling was used in model layers.    \\n    train_datagen = ImageDataGenerator()\\n\\n    train_generator = train_datagen.flow_from_dataframe(dataframe=df_train,\\n                                                directory=SUB_FOLDERS_PATH,\\n                                                x_col=\"path\",\\n                                                y_col=\"label\",\\n                                                batch_size=batch_size,\\n                                                seed=42,\\n                                                shuffle=True,\\n                                                class_mode=\"categorical\",\\n                                                target_size=input_size)\\n\\n    validation_generator = train_datagen.flow_from_dataframe(dataframe=df_test,\\n                                                directory=SUB_FOLDERS_PATH,\\n                                                x_col=\"path\",\\n                                                y_col=\"label\",\\n                                                batch_size=val_batch_size,\\n                                                seed=42,\\n                                                shuffle=True,\\n                                                class_mode=\"categorical\",\\n                                                target_size=input_size)\\n    \\n    model = build_model(input_shape)\\n    model.fit(train_generator, epochs=epochs, batch_size=batch_size, verbose = 0)\\n    \\n    train_generator.reset()\\n    train_loss, train_accuracy = model.evaluate(train_generator, verbose=0)\\n    print(\"train_loss: \", train_loss, \"  train_accuracy\", train_accuracy)\\n    all_train_scores.append(train_accuracy)\\n    \\n    validation_generator.reset()\\n    val_loss, val_accuracy = model.evaluate(validation_generator, verbose=0)\\n    print(\"val_loss: \", val_loss, \"  val_accuracy: \", val_accuracy)\\n    all_val_scores.append(val_accuracy)\\n    \\n    k+=1\\n    \\n')\n    File \"C:\\Users\\ekizo\\anaconda3\\envs\\tensorflow\\lib\\site-packages\\IPython\\core\\interactiveshell.py\", line 2357, in run_cell_magic\n      result = fn(*args, **kwargs)\n    File \"C:\\Users\\ekizo\\anaconda3\\envs\\tensorflow\\lib\\site-packages\\IPython\\core\\magics\\execution.py\", line 1316, in time\n      exec(code, glob, local_ns)\n    File \"<timed exec>\", line 43, in <module>\n    File \"C:\\Users\\ekizo\\anaconda3\\envs\\tensorflow\\lib\\site-packages\\keras\\utils\\traceback_utils.py\", line 65, in error_handler\n      return fn(*args, **kwargs)\n    File \"C:\\Users\\ekizo\\anaconda3\\envs\\tensorflow\\lib\\site-packages\\keras\\engine\\training.py\", line 1564, in fit\n      tmp_logs = self.train_function(iterator)\n    File \"C:\\Users\\ekizo\\anaconda3\\envs\\tensorflow\\lib\\site-packages\\keras\\engine\\training.py\", line 1160, in train_function\n      return step_function(self, iterator)\n    File \"C:\\Users\\ekizo\\anaconda3\\envs\\tensorflow\\lib\\site-packages\\keras\\engine\\training.py\", line 1146, in step_function\n      outputs = model.distribute_strategy.run(run_step, args=(data,))\n    File \"C:\\Users\\ekizo\\anaconda3\\envs\\tensorflow\\lib\\site-packages\\keras\\engine\\training.py\", line 1135, in run_step\n      outputs = model.train_step(data)\n    File \"C:\\Users\\ekizo\\anaconda3\\envs\\tensorflow\\lib\\site-packages\\keras\\engine\\training.py\", line 993, in train_step\n      y_pred = self(x, training=True)\n    File \"C:\\Users\\ekizo\\anaconda3\\envs\\tensorflow\\lib\\site-packages\\keras\\utils\\traceback_utils.py\", line 65, in error_handler\n      return fn(*args, **kwargs)\n    File \"C:\\Users\\ekizo\\anaconda3\\envs\\tensorflow\\lib\\site-packages\\keras\\engine\\training.py\", line 557, in __call__\n      return super().__call__(*args, **kwargs)\n    File \"C:\\Users\\ekizo\\anaconda3\\envs\\tensorflow\\lib\\site-packages\\keras\\utils\\traceback_utils.py\", line 65, in error_handler\n      return fn(*args, **kwargs)\n    File \"C:\\Users\\ekizo\\anaconda3\\envs\\tensorflow\\lib\\site-packages\\keras\\engine\\base_layer.py\", line 1097, in __call__\n      outputs = call_fn(inputs, *args, **kwargs)\n    File \"C:\\Users\\ekizo\\anaconda3\\envs\\tensorflow\\lib\\site-packages\\keras\\utils\\traceback_utils.py\", line 96, in error_handler\n      return fn(*args, **kwargs)\n    File \"C:\\Users\\ekizo\\anaconda3\\envs\\tensorflow\\lib\\site-packages\\keras\\engine\\functional.py\", line 510, in call\n      return self._run_internal_graph(inputs, training=training, mask=mask)\n    File \"C:\\Users\\ekizo\\anaconda3\\envs\\tensorflow\\lib\\site-packages\\keras\\engine\\functional.py\", line 667, in _run_internal_graph\n      outputs = node.layer(*args, **kwargs)\n    File \"C:\\Users\\ekizo\\anaconda3\\envs\\tensorflow\\lib\\site-packages\\keras\\utils\\traceback_utils.py\", line 65, in error_handler\n      return fn(*args, **kwargs)\n    File \"C:\\Users\\ekizo\\anaconda3\\envs\\tensorflow\\lib\\site-packages\\keras\\engine\\training.py\", line 557, in __call__\n      return super().__call__(*args, **kwargs)\n    File \"C:\\Users\\ekizo\\anaconda3\\envs\\tensorflow\\lib\\site-packages\\keras\\utils\\traceback_utils.py\", line 65, in error_handler\n      return fn(*args, **kwargs)\n    File \"C:\\Users\\ekizo\\anaconda3\\envs\\tensorflow\\lib\\site-packages\\keras\\engine\\base_layer.py\", line 1097, in __call__\n      outputs = call_fn(inputs, *args, **kwargs)\n    File \"C:\\Users\\ekizo\\anaconda3\\envs\\tensorflow\\lib\\site-packages\\keras\\utils\\traceback_utils.py\", line 96, in error_handler\n      return fn(*args, **kwargs)\n    File \"C:\\Users\\ekizo\\anaconda3\\envs\\tensorflow\\lib\\site-packages\\keras\\engine\\functional.py\", line 510, in call\n      return self._run_internal_graph(inputs, training=training, mask=mask)\n    File \"C:\\Users\\ekizo\\anaconda3\\envs\\tensorflow\\lib\\site-packages\\keras\\engine\\functional.py\", line 667, in _run_internal_graph\n      outputs = node.layer(*args, **kwargs)\n    File \"C:\\Users\\ekizo\\anaconda3\\envs\\tensorflow\\lib\\site-packages\\keras\\utils\\traceback_utils.py\", line 65, in error_handler\n      return fn(*args, **kwargs)\n    File \"C:\\Users\\ekizo\\anaconda3\\envs\\tensorflow\\lib\\site-packages\\keras\\engine\\base_layer.py\", line 1097, in __call__\n      outputs = call_fn(inputs, *args, **kwargs)\n    File \"C:\\Users\\ekizo\\anaconda3\\envs\\tensorflow\\lib\\site-packages\\keras\\utils\\traceback_utils.py\", line 96, in error_handler\n      return fn(*args, **kwargs)\n    File \"C:\\Users\\ekizo\\anaconda3\\envs\\tensorflow\\lib\\site-packages\\keras\\layers\\normalization\\batch_normalization.py\", line 850, in call\n      outputs = self._fused_batch_norm(inputs, training=training)\n    File \"C:\\Users\\ekizo\\anaconda3\\envs\\tensorflow\\lib\\site-packages\\keras\\layers\\normalization\\batch_normalization.py\", line 660, in _fused_batch_norm\n      output, mean, variance = control_flow_util.smart_cond(\n    File \"C:\\Users\\ekizo\\anaconda3\\envs\\tensorflow\\lib\\site-packages\\keras\\utils\\control_flow_util.py\", line 108, in smart_cond\n      return tf.__internal__.smart_cond.smart_cond(\n    File \"C:\\Users\\ekizo\\anaconda3\\envs\\tensorflow\\lib\\site-packages\\keras\\layers\\normalization\\batch_normalization.py\", line 649, in _fused_batch_norm_inference\n      return tf.compat.v1.nn.fused_batch_norm(\nNode: 'model/resnet50/conv2_block1_3_bn/FusedBatchNormV3'\nOOM when allocating tensor with shape[16,256,120,120] and type float on /job:localhost/replica:0/task:0/device:GPU:0 by allocator GPU_0_bfc\n\t [[{{node model/resnet50/conv2_block1_3_bn/FusedBatchNormV3}}]]\nHint: If you want to see a list of allocated tensors when OOM happens, add report_tensor_allocations_upon_oom to RunOptions for current allocation info. This isn't available when running in Eager mode.\n [Op:__inference_train_function_10383]"
     ]
    }
   ],
   "source": [
    "%%time\n",
    "\n",
    "k = 0\n",
    "\n",
    "all_train_scores = []   # all train scores on k-fold test data\n",
    "all_val_scores = []   # all validation scores on k-fold test data\n",
    "\n",
    "\n",
    "for train_index, test_index in cv.split(df, df.label):\n",
    "    \n",
    "    df_train = df.iloc[train_index]\n",
    "    df_test = df.iloc[test_index]\n",
    "    \n",
    "    print(\"\\n-----------------------------\")\n",
    "    print('Initializing Kfold %s'%str(k))\n",
    "    print('Train shape:', df_train.shape)\n",
    "    print('Test shape:', df_test.shape)\n",
    "    \n",
    "\n",
    "    \n",
    "    # rescaling was not used because rescaling was used in model layers.    \n",
    "    train_datagen = ImageDataGenerator()\n",
    "\n",
    "    train_generator = train_datagen.flow_from_dataframe(dataframe=df_train,\n",
    "                                                directory=SUB_FOLDERS_PATH,\n",
    "                                                x_col=\"path\",\n",
    "                                                y_col=\"label\",\n",
    "                                                batch_size=batch_size,\n",
    "                                                seed=42,\n",
    "                                                shuffle=True,\n",
    "                                                class_mode=\"categorical\",\n",
    "                                                target_size=input_size)\n",
    "\n",
    "    validation_generator = train_datagen.flow_from_dataframe(dataframe=df_test,\n",
    "                                                directory=SUB_FOLDERS_PATH,\n",
    "                                                x_col=\"path\",\n",
    "                                                y_col=\"label\",\n",
    "                                                batch_size=val_batch_size,\n",
    "                                                seed=42,\n",
    "                                                shuffle=True,\n",
    "                                                class_mode=\"categorical\",\n",
    "                                                target_size=input_size)\n",
    "    \n",
    "    model = build_model(input_shape)\n",
    "    model.fit(train_generator, epochs=epochs, batch_size=batch_size, verbose = 0)\n",
    "    \n",
    "    train_generator.reset()\n",
    "    train_loss, train_accuracy = model.evaluate(train_generator, verbose=0)\n",
    "    print(\"train_loss: \", train_loss, \"  train_accuracy\", train_accuracy)\n",
    "    all_train_scores.append(train_accuracy)\n",
    "    \n",
    "    validation_generator.reset()\n",
    "    val_loss, val_accuracy = model.evaluate(validation_generator, verbose=0)\n",
    "    print(\"val_loss: \", val_loss, \"  val_accuracy: \", val_accuracy)\n",
    "    all_val_scores.append(val_accuracy)\n",
    "    \n",
    "    k+=1\n",
    "    "
   ]
  },
  {
   "cell_type": "code",
   "execution_count": 14,
   "id": "38e87adb",
   "metadata": {
    "scrolled": true
   },
   "outputs": [
    {
     "name": "stdout",
     "output_type": "stream",
     "text": [
      "All train scores:  []\n",
      "\n",
      "Mean of all train scores:  nan\n",
      "\n",
      "All validation scores:  []\n",
      "\n",
      "Mean of all validation scores:  nan\n"
     ]
    },
    {
     "name": "stderr",
     "output_type": "stream",
     "text": [
      "C:\\Users\\ekizo\\anaconda3\\envs\\tensorflow\\lib\\site-packages\\numpy\\core\\fromnumeric.py:3432: RuntimeWarning: Mean of empty slice.\n",
      "  return _methods._mean(a, axis=axis, dtype=dtype,\n",
      "C:\\Users\\ekizo\\anaconda3\\envs\\tensorflow\\lib\\site-packages\\numpy\\core\\_methods.py:190: RuntimeWarning: invalid value encountered in double_scalars\n",
      "  ret = ret.dtype.type(ret / rcount)\n"
     ]
    }
   ],
   "source": [
    "print(\"All train scores: \", all_train_scores)\n",
    "print(\"\\nMean of all train scores: \", np.mean(all_train_scores))\n",
    "print(\"\\nAll validation scores: \", all_val_scores)\n",
    "print(\"\\nMean of all validation scores: \", np.mean(all_val_scores))"
   ]
  },
  {
   "cell_type": "code",
   "execution_count": null,
   "id": "da41d326",
   "metadata": {},
   "outputs": [],
   "source": []
  },
  {
   "cell_type": "code",
   "execution_count": null,
   "id": "812c8fb0",
   "metadata": {},
   "outputs": [],
   "source": []
  },
  {
   "cell_type": "code",
   "execution_count": null,
   "id": "ab421175",
   "metadata": {},
   "outputs": [],
   "source": []
  }
 ],
 "metadata": {
  "kernelspec": {
   "display_name": "tensorflow",
   "language": "python",
   "name": "tensorflow"
  },
  "language_info": {
   "codemirror_mode": {
    "name": "ipython",
    "version": 3
   },
   "file_extension": ".py",
   "mimetype": "text/x-python",
   "name": "python",
   "nbconvert_exporter": "python",
   "pygments_lexer": "ipython3",
   "version": "3.9.13"
  }
 },
 "nbformat": 4,
 "nbformat_minor": 5
}
