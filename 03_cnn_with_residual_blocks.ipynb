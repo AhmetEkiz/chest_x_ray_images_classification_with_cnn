{
 "cells": [
  {
   "cell_type": "markdown",
   "id": "371229ca",
   "metadata": {},
   "source": [
    "# The CNN With Residual Blocks Model \n",
    "\n",
    "CHEST X-RAY IMAGES CLASSIFICATION WITH CNN"
   ]
  },
  {
   "cell_type": "code",
   "execution_count": 1,
   "id": "133e58e6",
   "metadata": {},
   "outputs": [
    {
     "name": "stdout",
     "output_type": "stream",
     "text": [
      "tensorflow version: 2.10.0\n",
      "numpy version: 1.23.4\n",
      "pandas version: 1.5.1\n"
     ]
    }
   ],
   "source": [
    "import tensorflow as tf\n",
    "import numpy as np\n",
    "import pandas as pd\n",
    "from matplotlib import pyplot as plt\n",
    "from sklearn.metrics import classification_report, confusion_matrix\n",
    "\n",
    "import os, shutil, pathlib\n",
    "\n",
    "\n",
    "print(\"tensorflow version:\", tf.__version__)\n",
    "print(\"numpy version:\", np.__version__)\n",
    "print(\"pandas version:\", pd.__version__)"
   ]
  },
  {
   "cell_type": "markdown",
   "id": "945c545e",
   "metadata": {},
   "source": [
    "## Paths of Data"
   ]
  },
  {
   "cell_type": "code",
   "execution_count": 2,
   "id": "198049bc",
   "metadata": {},
   "outputs": [
    {
     "data": {
      "text/plain": [
       "'../data/20210708_görüntüler'"
      ]
     },
     "execution_count": 2,
     "metadata": {},
     "output_type": "execute_result"
    }
   ],
   "source": [
    "DATA_PATH = \"../data\"\n",
    "RAW_DATASET_NAME = \"20210708_görüntüler\"   # raw dataset folder name\n",
    "SUB_FOLDERS_PATH = f\"{DATA_PATH}/{RAW_DATASET_NAME}\"  # sub class folders\n",
    "\n",
    "SUB_FOLDERS_PATH"
   ]
  },
  {
   "cell_type": "code",
   "execution_count": 3,
   "id": "4016f06c",
   "metadata": {},
   "outputs": [
    {
     "data": {
      "text/plain": [
       "['20210708_görüntüler', 'images_1', 'manuel_differet_person']"
      ]
     },
     "execution_count": 3,
     "metadata": {},
     "output_type": "execute_result"
    }
   ],
   "source": [
    "os.listdir(DATA_PATH)"
   ]
  },
  {
   "cell_type": "code",
   "execution_count": 4,
   "id": "679c3869",
   "metadata": {},
   "outputs": [
    {
     "data": {
      "text/plain": [
       "{'covid+ ac grafileri': 'covid',\n",
       " 'infiltratif akciğer hastası grafileri': 'infiltiratif',\n",
       " 'normal akciğer grafileri': 'normal'}"
      ]
     },
     "execution_count": 4,
     "metadata": {},
     "output_type": "execute_result"
    }
   ],
   "source": [
    "labels = {\"covid+ ac grafileri\" : \"covid\",\n",
    "         \"infiltratif akciğer hastası grafileri\" : \"infiltiratif\",\n",
    "         \"normal akciğer grafileri\": \"normal\"}\n",
    "\n",
    "labels"
   ]
  },
  {
   "cell_type": "code",
   "execution_count": 5,
   "id": "5c51e683",
   "metadata": {},
   "outputs": [
    {
     "data": {
      "text/plain": [
       "dict_values(['covid', 'infiltiratif', 'normal'])"
      ]
     },
     "execution_count": 5,
     "metadata": {},
     "output_type": "execute_result"
    }
   ],
   "source": [
    "labels.values()"
   ]
  },
  {
   "cell_type": "markdown",
   "id": "f013e1a5",
   "metadata": {},
   "source": [
    "# Prepare Data"
   ]
  },
  {
   "cell_type": "code",
   "execution_count": 6,
   "id": "6a731c52",
   "metadata": {},
   "outputs": [],
   "source": [
    "def dataframe_for_folders(DATA_PATH, DATASET_NAME, labels):\n",
    "    \"\"\"create dataframe from data folders that every folder has one class data\n",
    "    \n",
    "    It prepares dataframe to put in  TF flow_from_dataframe function\n",
    "    \n",
    "    Args:\n",
    "        DATA_PATH : parent folder relative path of DATASET_NAME. It contains all of data files.\n",
    "        DATASET_NAME : dataset name which wanted to use - path from DATA_PATH to classes folders\n",
    "        labels: a dict that contains folder names according to classes\n",
    "        \n",
    "    Returns:\n",
    "        A pandas dataframe that has relative path to the dataset_name of data and labels\n",
    "    \"\"\"\n",
    "    CLASS_FOLDERS_PATHS = os.listdir(f\"{DATA_PATH}/{DATASET_NAME}\")\n",
    "    \n",
    "    df = pd.DataFrame(columns=[\"path\", \"label\"])  # empty dataframe\n",
    "    \n",
    "    for i in CLASS_FOLDERS_PATHS:\n",
    "        # list files - images\n",
    "        list_of_files = os.listdir(f\"{DATASET_NAME}/{i}\")\n",
    "        \n",
    "        for k, name in enumerate(list_of_files):\n",
    "            list_of_files[k] = f\"{i}/\"+name       # add parent folder\n",
    "\n",
    "        df = pd.concat([df, pd.DataFrame(list_of_files, columns=[\"path\"])], ignore_index=True)\n",
    "        df.fillna(labels[i], inplace=True)  # label column is NaN, so we put labels every iteration. because every folder has one class        \n",
    "    \n",
    "#     df.reset_index(inplace = True)  \n",
    "    \n",
    "    return df"
   ]
  },
  {
   "cell_type": "code",
   "execution_count": 9,
   "id": "58d4b93a",
   "metadata": {},
   "outputs": [
    {
     "name": "stdout",
     "output_type": "stream",
     "text": [
      "<class 'pandas.core.frame.DataFrame'>\n",
      "RangeIndex: 336 entries, 0 to 335\n",
      "Data columns (total 2 columns):\n",
      " #   Column  Non-Null Count  Dtype \n",
      "---  ------  --------------  ----- \n",
      " 0   path    336 non-null    object\n",
      " 1   label   336 non-null    object\n",
      "dtypes: object(2)\n",
      "memory usage: 5.4+ KB\n"
     ]
    }
   ],
   "source": [
    "df.info()"
   ]
  },
  {
   "cell_type": "markdown",
   "id": "d3b07560",
   "metadata": {},
   "source": [
    "## Split Train and Test Data"
   ]
  },
  {
   "cell_type": "code",
   "execution_count": 10,
   "id": "e39c6441",
   "metadata": {},
   "outputs": [],
   "source": [
    "from sklearn.model_selection import train_test_split\n",
    "\n",
    "random_state=41\n",
    "test_size = 0.2\n",
    "df_train, df_test = train_test_split(df , test_size = test_size, random_state=random_state)"
   ]
  },
  {
   "cell_type": "code",
   "execution_count": 12,
   "id": "5eb7aadb",
   "metadata": {},
   "outputs": [
    {
     "data": {
      "text/plain": [
       "pandas.core.series.Series"
      ]
     },
     "execution_count": 12,
     "metadata": {},
     "output_type": "execute_result"
    }
   ],
   "source": [
    "type(df.label.value_counts())"
   ]
  },
  {
   "cell_type": "code",
   "execution_count": 13,
   "id": "60eedeca",
   "metadata": {},
   "outputs": [
    {
     "data": {
      "text/plain": [
       "Index(['covid', 'normal', 'infiltiratif'], dtype='object')"
      ]
     },
     "execution_count": 13,
     "metadata": {},
     "output_type": "execute_result"
    }
   ],
   "source": [
    "df.label.value_counts().index"
   ]
  },
  {
   "cell_type": "code",
   "execution_count": 14,
   "id": "14cdba04",
   "metadata": {},
   "outputs": [
    {
     "name": "stdout",
     "output_type": "stream",
     "text": [
      "covid           128\n",
      "normal          107\n",
      "infiltiratif    101\n",
      "Name: label, dtype: int64\n"
     ]
    },
    {
     "data": {
      "text/plain": [
       "Text(0.5, 1.0, 'Rates of Classes on All of Data')"
      ]
     },
     "execution_count": 14,
     "metadata": {},
     "output_type": "execute_result"
    },
    {
     "data": {
      "image/png": "[encoded data removed]",
      "text/plain": [
       "<Figure size 360x360 with 1 Axes>"
      ]
     },
     "metadata": {},
     "output_type": "display_data"
    }
   ],
   "source": [
    "# Rates of Classes on All of Data\n",
    "print(df.label.value_counts())\n",
    "\n",
    "colors = [\"#22a7f0\",\"#c9e52f\", \"#66ffcc\"]\n",
    "# classes = ['covid', 'normal', \"infiltiratif\"]\n",
    "classes = df.label.value_counts().index\n",
    "explode = [0, 0.05, 0.07]\n",
    "\n",
    "plt.figure(figsize = (5,5))\n",
    "plt.pie(df.label.value_counts(), explode=explode, labels=classes, colors=colors, autopct='%1.1f%%')\n",
    "plt.title(\"Rates of Classes on All of Data\", color = 'blue',fontsize = 14)"
   ]
  },
  {
   "cell_type": "code",
   "execution_count": 15,
   "id": "87684aea",
   "metadata": {},
   "outputs": [
    {
     "name": "stdout",
     "output_type": "stream",
     "text": [
      "covid           103\n",
      "normal           86\n",
      "infiltiratif     79\n",
      "Name: label, dtype: int64\n"
     ]
    },
    {
     "data": {
      "text/plain": [
       "Text(0.5, 1.0, 'Rates of Classes on Train Data')"
      ]
     },
     "execution_count": 15,
     "metadata": {},
     "output_type": "execute_result"
    },
    {
     "data": {
      "image/png": "[encoded data removed]",
      "text/plain": [
       "<Figure size 360x360 with 1 Axes>"
      ]
     },
     "metadata": {},
     "output_type": "display_data"
    }
   ],
   "source": [
    "# Rates of Classes on Train Data\n",
    "print(df_train.label.value_counts())\n",
    "\n",
    "colors = [\"#22a7f0\",\"#c9e52f\", \"#66ffcc\"]\n",
    "# classes = ['covid', 'normal', \"infiltiratif\"]\n",
    "classes = df_train.label.value_counts().index\n",
    "explode = [0, 0.05, 0.07]\n",
    "\n",
    "plt.figure(figsize = (5,5))\n",
    "plt.pie(df_train.label.value_counts(), explode=explode, labels=classes, colors=colors, autopct='%1.1f%%')\n",
    "plt.title(\"Rates of Classes on Train Data\", color = 'blue',fontsize = 14)"
   ]
  },
  {
   "cell_type": "code",
   "execution_count": 16,
   "id": "fcae1b57",
   "metadata": {},
   "outputs": [
    {
     "name": "stdout",
     "output_type": "stream",
     "text": [
      "covid           25\n",
      "infiltiratif    22\n",
      "normal          21\n",
      "Name: label, dtype: int64\n"
     ]
    },
    {
     "data": {
      "text/plain": [
       "Text(0.5, 1.0, 'Rates of Classes on Test Data')"
      ]
     },
     "execution_count": 16,
     "metadata": {},
     "output_type": "execute_result"
    },
    {
     "data": {
      "image/png": "[encoded data removed]",
      "text/plain": [
       "<Figure size 360x360 with 1 Axes>"
      ]
     },
     "metadata": {},
     "output_type": "display_data"
    }
   ],
   "source": [
    "# Rates of Classes on Test Data\n",
    "print(df_test.label.value_counts())\n",
    "\n",
    "colors = [\"#22a7f0\",\"#c9e52f\", \"#66ffcc\"]\n",
    "# classes = ['covid', 'normal', \"infiltiratif\"]\n",
    "classes = df_test.label.value_counts().index\n",
    "explode = [0, 0.05, 0.07]\n",
    "\n",
    "plt.figure(figsize = (5,5))\n",
    "plt.pie(df_test.label.value_counts(), explode=explode, labels=classes, colors=colors, autopct='%1.1f%%')\n",
    "plt.title(\"Rates of Classes on Test Data\", color = 'blue',fontsize = 14)"
   ]
  },
  {
   "cell_type": "markdown",
   "id": "3ba07853",
   "metadata": {},
   "source": [
    "# Preprocessing - Load Data"
   ]
  },
  {
   "cell_type": "code",
   "execution_count": 17,
   "id": "e0f4edf4",
   "metadata": {},
   "outputs": [],
   "source": [
    "from tensorflow import keras\n",
    "from tensorflow.keras import layers\n",
    "from tensorflow.keras.preprocessing.image import ImageDataGenerator"
   ]
  },
  {
   "cell_type": "code",
   "execution_count": 18,
   "id": "fb28b66a",
   "metadata": {},
   "outputs": [
    {
     "data": {
      "text/plain": [
       "'../data/20210708_görüntüler'"
      ]
     },
     "execution_count": 18,
     "metadata": {},
     "output_type": "execute_result"
    }
   ],
   "source": [
    "SUB_FOLDERS_PATH"
   ]
  },
  {
   "cell_type": "code",
   "execution_count": 19,
   "id": "c244161e",
   "metadata": {},
   "outputs": [
    {
     "name": "stdout",
     "output_type": "stream",
     "text": [
      "Found 201 validated image filenames belonging to 3 classes.\n",
      "Found 67 validated image filenames belonging to 3 classes.\n",
      "Found 68 validated image filenames belonging to 3 classes.\n"
     ]
    }
   ],
   "source": [
    "width = 480\n",
    "height = 480\n",
    "\n",
    "input_size = (width, height)\n",
    "input_shape = (width, height, 3)\n",
    "\n",
    "batch_size = 4\n",
    "val_batch_size = 4\n",
    "test_batch_size = 4\n",
    "\n",
    "epochs = 200\n",
    "\n",
    "\n",
    "train_datagen = ImageDataGenerator(validation_split=0.25, rescale=1./255)\n",
    "test_datagen = ImageDataGenerator(rescale=1./255)\n",
    "\n",
    "\n",
    "train_generator = train_datagen.flow_from_dataframe(dataframe=df_train,\n",
    "                                            directory=SUB_FOLDERS_PATH,\n",
    "                                            x_col=\"path\",\n",
    "                                            y_col=\"label\",\n",
    "                                            subset=\"training\",\n",
    "                                            batch_size=batch_size,\n",
    "                                            seed=42,\n",
    "                                            shuffle=True,\n",
    "                                            class_mode=\"categorical\",\n",
    "                                            target_size=input_size)\n",
    "\n",
    "validation_generator = train_datagen.flow_from_dataframe(dataframe=df_train,\n",
    "                                            directory=SUB_FOLDERS_PATH,\n",
    "                                            x_col=\"path\",\n",
    "                                            y_col=\"label\",\n",
    "                                            subset=\"validation\",\n",
    "                                            batch_size=val_batch_size,\n",
    "                                            seed=42,\n",
    "                                            shuffle=True,\n",
    "                                            class_mode=\"categorical\",\n",
    "                                            target_size=input_size)\n",
    "\n",
    "test_generator = test_datagen.flow_from_dataframe(dataframe=df_test,\n",
    "                                            directory=SUB_FOLDERS_PATH,\n",
    "                                            x_col=\"path\",\n",
    "                                            y_col=\"label\",\n",
    "                                            batch_size=test_batch_size,\n",
    "                                            seed=42,\n",
    "                                            shuffle=False,\n",
    "                                            class_mode=\"categorical\",\n",
    "                                            target_size=input_size)\n"
   ]
  },
  {
   "cell_type": "markdown",
   "id": "151f7d6d",
   "metadata": {},
   "source": [
    "# New CNN with Residual Blocks"
   ]
  },
  {
   "cell_type": "code",
   "execution_count": 21,
   "id": "c3e2e65f",
   "metadata": {},
   "outputs": [],
   "source": [
    "from tensorflow.keras import layers\n",
    "from tensorflow.keras.layers import Input, Add, Dense, Activation, ZeroPadding2D, BatchNormalization, Flatten, Conv2D, AveragePooling2D, MaxPooling2D, GlobalMaxPooling2D\n",
    "from tensorflow.keras.models import Model, load_model\n",
    "from tensorflow.keras.initializers import random_uniform, glorot_uniform, constant, identity"
   ]
  },
  {
   "cell_type": "markdown",
   "id": "16d0918a",
   "metadata": {},
   "source": [
    "## Identity Block\n",
    "`The identity block is a slightly different and more powerful version of the standard block used in ResNets, and corresponds to the case where the input activation (say 𝑎[𝑙]) has the same dimension as the output activation (say 𝑎[𝑙+2]).`\n",
    "\n",
    "[Source: Convolutional Neural Networks on Coursera by Andrew NG](https://www.coursera.org/learn/convolutional-neural-networks)"
   ]
  },
  {
   "cell_type": "markdown",
   "id": "93a6921e",
   "metadata": {},
   "source": [
    "<img src=\"images/idblock3_kiank.png\" style=\"width:650px;height:150px;\">\n",
    "    <caption><center> <u> <font color='purple'> <b>Figure 1</b> </u><font color='purple'>  : <b>Identity block.</b> Skip connection \"skips over\" 3 layers.</center></caption>"
   ]
  },
  {
   "cell_type": "code",
   "execution_count": 22,
   "id": "f63913f5",
   "metadata": {},
   "outputs": [],
   "source": [
    "\n",
    "def identity_block(X, f, filters, training=True, initializer=random_uniform):\n",
    "    \"\"\"\n",
    "    Implementation of the identity block as defined in Figure 1\n",
    "    \n",
    "    Arguments:\n",
    "    X -- input tensor of shape (m, n_H_prev, n_W_prev, n_C_prev)\n",
    "    f -- integer, specifying the shape of the middle CONV's window for the main path\n",
    "    filters -- python list of integers, defining the number of filters in the CONV layers of the main path\n",
    "    training -- True: Behave in training mode\n",
    "                False: Behave in inference mode\n",
    "    initializer -- to set up the initial weights of a layer. Equals to random uniform initializer\n",
    "    \n",
    "    Returns:\n",
    "    X -- output of the identity block, tensor of shape (m, n_H, n_W, n_C)\n",
    "    \"\"\"\n",
    "    \n",
    "    # Retrieve Filters\n",
    "    F1, F2, F3 = filters\n",
    "    \n",
    "    # Save the input value. You'll need this later to add back to the main path. \n",
    "    X_shortcut = X\n",
    "    \n",
    "    # First component of main path\n",
    "    X = Conv2D(filters = F1, kernel_size = 1, strides = (1,1), padding = 'valid', kernel_initializer = initializer(seed=0))(X)\n",
    "    X = BatchNormalization(axis = 3)(X, training = training) # Default axis\n",
    "    X = Activation('relu')(X)\n",
    "    \n",
    "    ### START CODE HERE\n",
    "    ## Second component of main path (≈3 lines)\n",
    "    X = Conv2D(filters = F2, kernel_size = f, strides = (1,1), padding = 'same', kernel_initializer = initializer(seed=0))(X)\n",
    "    X = BatchNormalization(axis = 3)(X, training = training)\n",
    "    X = Activation('relu')(X)\n",
    "\n",
    "    ## Third component of main path (≈2 lines)\n",
    "    X = Conv2D(filters = F3, kernel_size = 1, strides = (1,1), padding = 'valid', kernel_initializer = initializer(seed = 0))(X)\n",
    "    X = BatchNormalization(axis = 3)(X, training = training) \n",
    "    \n",
    "    ## Final step: Add shortcut value to main path, and pass it through a RELU activation (≈2 lines)\n",
    "    X = Add()([X_shortcut, X])\n",
    "    X = Activation('relu')(X)\n",
    "    ### END CODE HERE\n",
    "\n",
    "    return X\n"
   ]
  },
  {
   "cell_type": "markdown",
   "id": "54c797b3",
   "metadata": {},
   "source": [
    "## The Convolutional Block \n",
    "`The ResNet \"convolutional block\" is the second block type. You can use this type of block when the input and output dimensions don't match up.`\n",
    "\n",
    "[Source: Convolutional Neural Networks on Coursera by Andrew NG](https://www.coursera.org/learn/convolutional-neural-networks)\n",
    "\n",
    "<img src=\"images/convblock_kiank.png\" style=\"width:650px;height:150px;\">\n",
    "<caption><center> <u> <font color='purple'> <b>Figure 2</b> </u><font color='purple'>  : <b>Convolutional block</b> </center></caption>"
   ]
  },
  {
   "cell_type": "code",
   "execution_count": 23,
   "id": "f746f438",
   "metadata": {},
   "outputs": [],
   "source": [
    "\n",
    "def convolutional_block(X, f, filters, s = 2, training=True, initializer=glorot_uniform):\n",
    "    \"\"\"\n",
    "    Implementation of the convolutional block as defined in Figure 4\n",
    "    \n",
    "    Arguments:\n",
    "    X -- input tensor of shape (m, n_H_prev, n_W_prev, n_C_prev)\n",
    "    f -- integer, specifying the shape of the middle CONV's window for the main path\n",
    "    filters -- python list of integers, defining the number of filters in the CONV layers of the main path\n",
    "    s -- Integer, specifying the stride to be used\n",
    "    training -- True: Behave in training mode\n",
    "                False: Behave in inference mode\n",
    "    initializer -- to set up the initial weights of a layer. Equals to Glorot uniform initializer, \n",
    "                   also called Xavier uniform initializer.\n",
    "    \n",
    "    Returns:\n",
    "    X -- output of the convolutional block, tensor of shape (n_H, n_W, n_C)\n",
    "    \"\"\"\n",
    "    \n",
    "    # Retrieve Filters\n",
    "    F1, F2, F3 = filters\n",
    "    \n",
    "    # Save the input value\n",
    "    X_shortcut = X\n",
    "\n",
    "\n",
    "    ##### MAIN PATH #####\n",
    "    \n",
    "    # First component of main path glorot_uniform(seed=0)\n",
    "    X = Conv2D(filters = F1, kernel_size = 1, strides = (s, s), padding='valid', kernel_initializer = initializer(seed=0))(X)\n",
    "    X = BatchNormalization(axis = 3)(X, training=training)\n",
    "    X = Activation('relu')(X)\n",
    "    \n",
    "    ## Second component of main path\n",
    "    X = Conv2D(filters = F2, kernel_size = f, strides = (1, 1), padding = 'same', kernel_initializer = initializer(seed = 0))(X)\n",
    "    X = BatchNormalization(axis = 3)(X, training=training) \n",
    "    X = Activation('relu')(X)\n",
    "\n",
    "    ## Third component of main path\n",
    "    X = Conv2D(filters = F3, kernel_size = 1, strides = (1,1), padding = 'valid', kernel_initializer = initializer(seed = 0))(X)\n",
    "    X = BatchNormalization(axis = 3)(X, training=training)\n",
    "    \n",
    "    ##### SHORTCUT PATH #####\n",
    "    X_shortcut = Conv2D(filters = F3, kernel_size = 1, strides = (s,s), padding = 'valid', kernel_initializer = initializer(seed = 0))(X_shortcut)\n",
    "    X_shortcut = BatchNormalization(axis = 3)(X_shortcut, training=training)\n",
    "\n",
    "    # Final step: Add shortcut value to main path (Use this order [X, X_shortcut]), and pass it through a RELU activation\n",
    "    X = Add()([X, X_shortcut])\n",
    "    X = Activation('relu')(X)\n",
    "    \n",
    "    return X"
   ]
  },
  {
   "cell_type": "markdown",
   "id": "92e6fdf5",
   "metadata": {},
   "source": [
    "# The New Model"
   ]
  },
  {
   "cell_type": "code",
   "execution_count": 24,
   "id": "997d4a84",
   "metadata": {},
   "outputs": [],
   "source": [
    "\n",
    "def ResNet50(input_shape = (64, 64, 3), classes = 6):\n",
    "    \"\"\"\n",
    "    Arguments:\n",
    "    input_shape -- shape of the images of the dataset\n",
    "    classes -- integer, number of classes\n",
    "\n",
    "    Returns:\n",
    "    model -- a Model() instance in Keras\n",
    "    \"\"\"\n",
    "    \n",
    "    # Define the input as a tensor with shape input_shape\n",
    "    X_input = Input(input_shape)\n",
    "\n",
    "    \n",
    "    # Zero-Padding\n",
    "    X = ZeroPadding2D((3, 3))(X_input)\n",
    "    \n",
    "    # Stage 1\n",
    "    X = Conv2D(64, (7, 7), strides = (2, 2), kernel_initializer = glorot_uniform(seed=0))(X)\n",
    "    X = BatchNormalization(axis = 3)(X)\n",
    "    X = layers.Conv2D(64, 3, strides=2, padding=\"same\", use_bias=False)(X)\n",
    "    X = BatchNormalization(axis = 3)(X)\n",
    "    X = Activation('relu')(X)\n",
    "\n",
    "    # Stage 2\n",
    "    X = convolutional_block(X, f = 3, filters = [64, 64, 128], s = 1)\n",
    "    X = identity_block(X, 3, [64, 64, 128])\n",
    "    X = identity_block(X, 3, [64, 64, 128])\n",
    "    \n",
    "    \n",
    "    #### NEW Layers\n",
    "    for size in [32, 64, 128]:\n",
    "        \n",
    "        X = layers.BatchNormalization()(X)\n",
    "        X = layers.Activation(\"relu\")(X)\n",
    "\n",
    "        X = layers.SeparableConv2D(size, 3, padding=\"same\", use_bias=False)(X)\n",
    "        X = layers.BatchNormalization()(X)\n",
    "        X = layers.Activation(\"relu\")(X)\n",
    "\n",
    "        X = layers.SeparableConv2D(size, 3, padding=\"same\", use_bias=False)(X)\n",
    "        X = layers.MaxPooling2D(3, strides=2, padding=\"same\")(X)\n",
    "        \n",
    "        X = layers.Conv2D(size, 3, strides=2, padding=\"same\", use_bias=False)(X)\n",
    "        X = layers.BatchNormalization()(X)\n",
    "    \n",
    "    ## AVGPOOL\n",
    "    X = AveragePooling2D(pool_size = (2, 2))(X)\n",
    "\n",
    "    # output layer\n",
    "    X = Flatten()(X)\n",
    "    \n",
    "    X = layers.Dropout(0.5)(X)\n",
    "    X = layers.Dense(64, activation=\"relu\")(X)\n",
    "    X = layers.Dropout(0.5)(X)\n",
    "    \n",
    "    X = Dense(classes, activation='softmax', kernel_initializer = glorot_uniform(seed=0))(X)\n",
    "    \n",
    "    \n",
    "    # Create model\n",
    "    model = Model(inputs = X_input, outputs = X)\n",
    "\n",
    "    return model\n"
   ]
  },
  {
   "cell_type": "code",
   "execution_count": 26,
   "id": "d2f68685",
   "metadata": {
    "scrolled": true
   },
   "outputs": [
    {
     "name": "stdout",
     "output_type": "stream",
     "text": [
      "(480, 480, 3)\n",
      "Model: \"model\"\n",
      "__________________________________________________________________________________________________\n",
      " Layer (type)                   Output Shape         Param #     Connected to                     \n",
      "==================================================================================================\n",
      " input_1 (InputLayer)           [(None, 480, 480, 3  0           []                               \n",
      "                                )]                                                                \n",
      "                                                                                                  \n",
      " zero_padding2d (ZeroPadding2D)  (None, 486, 486, 3)  0          ['input_1[0][0]']                \n",
      "                                                                                                  \n",
      " conv2d (Conv2D)                (None, 240, 240, 64  9472        ['zero_padding2d[0][0]']         \n",
      "                                )                                                                 \n",
      "                                                                                                  \n",
      " batch_normalization (BatchNorm  (None, 240, 240, 64  256        ['conv2d[0][0]']                 \n",
      " alization)                     )                                                                 \n",
      "                                                                                                  \n",
      " conv2d_1 (Conv2D)              (None, 120, 120, 64  36864       ['batch_normalization[0][0]']    \n",
      "                                )                                                                 \n",
      "                                                                                                  \n",
      " batch_normalization_1 (BatchNo  (None, 120, 120, 64  256        ['conv2d_1[0][0]']               \n",
      " rmalization)                   )                                                                 \n",
      "                                                                                                  \n",
      " activation (Activation)        (None, 120, 120, 64  0           ['batch_normalization_1[0][0]']  \n",
      "                                )                                                                 \n",
      "                                                                                                  \n",
      " conv2d_2 (Conv2D)              (None, 120, 120, 64  4160        ['activation[0][0]']             \n",
      "                                )                                                                 \n",
      "                                                                                                  \n",
      " batch_normalization_2 (BatchNo  (None, 120, 120, 64  256        ['conv2d_2[0][0]']               \n",
      " rmalization)                   )                                                                 \n",
      "                                                                                                  \n",
      " activation_1 (Activation)      (None, 120, 120, 64  0           ['batch_normalization_2[0][0]']  \n",
      "                                )                                                                 \n",
      "                                                                                                  \n",
      " conv2d_3 (Conv2D)              (None, 120, 120, 64  36928       ['activation_1[0][0]']           \n",
      "                                )                                                                 \n",
      "                                                                                                  \n",
      " batch_normalization_3 (BatchNo  (None, 120, 120, 64  256        ['conv2d_3[0][0]']               \n",
      " rmalization)                   )                                                                 \n",
      "                                                                                                  \n",
      " activation_2 (Activation)      (None, 120, 120, 64  0           ['batch_normalization_3[0][0]']  \n",
      "                                )                                                                 \n",
      "                                                                                                  \n",
      " conv2d_4 (Conv2D)              (None, 120, 120, 12  8320        ['activation_2[0][0]']           \n",
      "                                8)                                                                \n",
      "                                                                                                  \n",
      " conv2d_5 (Conv2D)              (None, 120, 120, 12  8320        ['activation[0][0]']             \n",
      "                                8)                                                                \n",
      "                                                                                                  \n",
      " batch_normalization_4 (BatchNo  (None, 120, 120, 12  512        ['conv2d_4[0][0]']               \n",
      " rmalization)                   8)                                                                \n",
      "                                                                                                  \n",
      " batch_normalization_5 (BatchNo  (None, 120, 120, 12  512        ['conv2d_5[0][0]']               \n",
      " rmalization)                   8)                                                                \n",
      "                                                                                                  \n",
      " add (Add)                      (None, 120, 120, 12  0           ['batch_normalization_4[0][0]',  \n",
      "                                8)                                'batch_normalization_5[0][0]']  \n",
      "                                                                                                  \n",
      " activation_3 (Activation)      (None, 120, 120, 12  0           ['add[0][0]']                    \n",
      "                                8)                                                                \n",
      "                                                                                                  \n",
      " conv2d_6 (Conv2D)              (None, 120, 120, 64  8256        ['activation_3[0][0]']           \n",
      "                                )                                                                 \n",
      "                                                                                                  \n",
      " batch_normalization_6 (BatchNo  (None, 120, 120, 64  256        ['conv2d_6[0][0]']               \n",
      " rmalization)                   )                                                                 \n",
      "                                                                                                  \n",
      " activation_4 (Activation)      (None, 120, 120, 64  0           ['batch_normalization_6[0][0]']  \n",
      "                                )                                                                 \n",
      "                                                                                                  \n",
      " conv2d_7 (Conv2D)              (None, 120, 120, 64  36928       ['activation_4[0][0]']           \n",
      "                                )                                                                 \n",
      "                                                                                                  \n",
      " batch_normalization_7 (BatchNo  (None, 120, 120, 64  256        ['conv2d_7[0][0]']               \n",
      " rmalization)                   )                                                                 \n",
      "                                                                                                  \n",
      " activation_5 (Activation)      (None, 120, 120, 64  0           ['batch_normalization_7[0][0]']  \n",
      "                                )                                                                 \n",
      "                                                                                                  \n",
      " conv2d_8 (Conv2D)              (None, 120, 120, 12  8320        ['activation_5[0][0]']           \n",
      "                                8)                                                                \n",
      "                                                                                                  \n",
      " batch_normalization_8 (BatchNo  (None, 120, 120, 12  512        ['conv2d_8[0][0]']               \n",
      " rmalization)                   8)                                                                \n",
      "                                                                                                  \n"
     ]
    },
    {
     "name": "stdout",
     "output_type": "stream",
     "text": [
      " add_1 (Add)                    (None, 120, 120, 12  0           ['activation_3[0][0]',           \n",
      "                                8)                                'batch_normalization_8[0][0]']  \n",
      "                                                                                                  \n",
      " activation_6 (Activation)      (None, 120, 120, 12  0           ['add_1[0][0]']                  \n",
      "                                8)                                                                \n",
      "                                                                                                  \n",
      " conv2d_9 (Conv2D)              (None, 120, 120, 64  8256        ['activation_6[0][0]']           \n",
      "                                )                                                                 \n",
      "                                                                                                  \n",
      " batch_normalization_9 (BatchNo  (None, 120, 120, 64  256        ['conv2d_9[0][0]']               \n",
      " rmalization)                   )                                                                 \n",
      "                                                                                                  \n",
      " activation_7 (Activation)      (None, 120, 120, 64  0           ['batch_normalization_9[0][0]']  \n",
      "                                )                                                                 \n",
      "                                                                                                  \n",
      " conv2d_10 (Conv2D)             (None, 120, 120, 64  36928       ['activation_7[0][0]']           \n",
      "                                )                                                                 \n",
      "                                                                                                  \n",
      " batch_normalization_10 (BatchN  (None, 120, 120, 64  256        ['conv2d_10[0][0]']              \n",
      " ormalization)                  )                                                                 \n",
      "                                                                                                  \n",
      " activation_8 (Activation)      (None, 120, 120, 64  0           ['batch_normalization_10[0][0]'] \n",
      "                                )                                                                 \n",
      "                                                                                                  \n",
      " conv2d_11 (Conv2D)             (None, 120, 120, 12  8320        ['activation_8[0][0]']           \n",
      "                                8)                                                                \n",
      "                                                                                                  \n",
      " batch_normalization_11 (BatchN  (None, 120, 120, 12  512        ['conv2d_11[0][0]']              \n",
      " ormalization)                  8)                                                                \n",
      "                                                                                                  \n",
      " add_2 (Add)                    (None, 120, 120, 12  0           ['activation_6[0][0]',           \n",
      "                                8)                                'batch_normalization_11[0][0]'] \n",
      "                                                                                                  \n",
      " activation_9 (Activation)      (None, 120, 120, 12  0           ['add_2[0][0]']                  \n",
      "                                8)                                                                \n",
      "                                                                                                  \n",
      " batch_normalization_12 (BatchN  (None, 120, 120, 12  512        ['activation_9[0][0]']           \n",
      " ormalization)                  8)                                                                \n",
      "                                                                                                  \n",
      " activation_10 (Activation)     (None, 120, 120, 12  0           ['batch_normalization_12[0][0]'] \n",
      "                                8)                                                                \n",
      "                                                                                                  \n",
      " separable_conv2d (SeparableCon  (None, 120, 120, 32  5248       ['activation_10[0][0]']          \n",
      " v2D)                           )                                                                 \n",
      "                                                                                                  \n",
      " batch_normalization_13 (BatchN  (None, 120, 120, 32  128        ['separable_conv2d[0][0]']       \n",
      " ormalization)                  )                                                                 \n",
      "                                                                                                  \n",
      " activation_11 (Activation)     (None, 120, 120, 32  0           ['batch_normalization_13[0][0]'] \n",
      "                                )                                                                 \n",
      "                                                                                                  \n",
      " separable_conv2d_1 (SeparableC  (None, 120, 120, 32  1312       ['activation_11[0][0]']          \n",
      " onv2D)                         )                                                                 \n",
      "                                                                                                  \n",
      " max_pooling2d (MaxPooling2D)   (None, 60, 60, 32)   0           ['separable_conv2d_1[0][0]']     \n",
      "                                                                                                  \n",
      " conv2d_12 (Conv2D)             (None, 30, 30, 32)   9216        ['max_pooling2d[0][0]']          \n",
      "                                                                                                  \n",
      " batch_normalization_14 (BatchN  (None, 30, 30, 32)  128         ['conv2d_12[0][0]']              \n",
      " ormalization)                                                                                    \n",
      "                                                                                                  \n",
      " batch_normalization_15 (BatchN  (None, 30, 30, 32)  128         ['batch_normalization_14[0][0]'] \n",
      " ormalization)                                                                                    \n",
      "                                                                                                  \n",
      " activation_12 (Activation)     (None, 30, 30, 32)   0           ['batch_normalization_15[0][0]'] \n",
      "                                                                                                  \n",
      " separable_conv2d_2 (SeparableC  (None, 30, 30, 64)  2336        ['activation_12[0][0]']          \n",
      " onv2D)                                                                                           \n",
      "                                                                                                  \n",
      " batch_normalization_16 (BatchN  (None, 30, 30, 64)  256         ['separable_conv2d_2[0][0]']     \n",
      " ormalization)                                                                                    \n",
      "                                                                                                  \n",
      " activation_13 (Activation)     (None, 30, 30, 64)   0           ['batch_normalization_16[0][0]'] \n",
      "                                                                                                  \n",
      " separable_conv2d_3 (SeparableC  (None, 30, 30, 64)  4672        ['activation_13[0][0]']          \n",
      " onv2D)                                                                                           \n",
      "                                                                                                  \n",
      " max_pooling2d_1 (MaxPooling2D)  (None, 15, 15, 64)  0           ['separable_conv2d_3[0][0]']     \n",
      "                                                                                                  \n",
      " conv2d_13 (Conv2D)             (None, 8, 8, 64)     36864       ['max_pooling2d_1[0][0]']        \n",
      "                                                                                                  \n",
      " batch_normalization_17 (BatchN  (None, 8, 8, 64)    256         ['conv2d_13[0][0]']              \n",
      " ormalization)                                                                                    \n"
     ]
    },
    {
     "name": "stdout",
     "output_type": "stream",
     "text": [
      "                                                                                                  \n",
      " batch_normalization_18 (BatchN  (None, 8, 8, 64)    256         ['batch_normalization_17[0][0]'] \n",
      " ormalization)                                                                                    \n",
      "                                                                                                  \n",
      " activation_14 (Activation)     (None, 8, 8, 64)     0           ['batch_normalization_18[0][0]'] \n",
      "                                                                                                  \n",
      " separable_conv2d_4 (SeparableC  (None, 8, 8, 128)   8768        ['activation_14[0][0]']          \n",
      " onv2D)                                                                                           \n",
      "                                                                                                  \n",
      " batch_normalization_19 (BatchN  (None, 8, 8, 128)   512         ['separable_conv2d_4[0][0]']     \n",
      " ormalization)                                                                                    \n",
      "                                                                                                  \n",
      " activation_15 (Activation)     (None, 8, 8, 128)    0           ['batch_normalization_19[0][0]'] \n",
      "                                                                                                  \n",
      " separable_conv2d_5 (SeparableC  (None, 8, 8, 128)   17536       ['activation_15[0][0]']          \n",
      " onv2D)                                                                                           \n",
      "                                                                                                  \n",
      " max_pooling2d_2 (MaxPooling2D)  (None, 4, 4, 128)   0           ['separable_conv2d_5[0][0]']     \n",
      "                                                                                                  \n",
      " conv2d_14 (Conv2D)             (None, 2, 2, 128)    147456      ['max_pooling2d_2[0][0]']        \n",
      "                                                                                                  \n",
      " batch_normalization_20 (BatchN  (None, 2, 2, 128)   512         ['conv2d_14[0][0]']              \n",
      " ormalization)                                                                                    \n",
      "                                                                                                  \n",
      " average_pooling2d (AveragePool  (None, 1, 1, 128)   0           ['batch_normalization_20[0][0]'] \n",
      " ing2D)                                                                                           \n",
      "                                                                                                  \n",
      " flatten (Flatten)              (None, 128)          0           ['average_pooling2d[0][0]']      \n",
      "                                                                                                  \n",
      " dropout (Dropout)              (None, 128)          0           ['flatten[0][0]']                \n",
      "                                                                                                  \n",
      " dense (Dense)                  (None, 64)           8256        ['dropout[0][0]']                \n",
      "                                                                                                  \n",
      " dropout_1 (Dropout)            (None, 64)           0           ['dense[0][0]']                  \n",
      "                                                                                                  \n",
      " dense_1 (Dense)                (None, 3)            195         ['dropout_1[0][0]']              \n",
      "                                                                                                  \n",
      "==================================================================================================\n",
      "Total params: 459,715\n",
      "Trainable params: 456,323\n",
      "Non-trainable params: 3,392\n",
      "__________________________________________________________________________________________________\n",
      "None\n"
     ]
    }
   ],
   "source": [
    "model = ResNet50(input_shape = input_shape, classes = 3)  # covid19 - infiltratrif - normal\n",
    "print(input_shape)\n",
    "print(model.summary())"
   ]
  },
  {
   "cell_type": "code",
   "execution_count": 27,
   "id": "c339b4de",
   "metadata": {},
   "outputs": [],
   "source": [
    "# assert False"
   ]
  },
  {
   "cell_type": "markdown",
   "id": "3028aae0",
   "metadata": {},
   "source": [
    "# The Model"
   ]
  },
  {
   "cell_type": "code",
   "execution_count": 29,
   "id": "7a988d35",
   "metadata": {},
   "outputs": [],
   "source": [
    "callbacks_list = [keras.callbacks.EarlyStopping(monitor=\"val_accuracy\",\n",
    "                                                patience=30,),\n",
    "                  keras.callbacks.ModelCheckpoint(filepath=\"checkpoint_path.keras\",\n",
    "                                                  monitor=\"val_loss\",\n",
    "                                                  save_best_only=True,),\n",
    "                 keras.callbacks.TensorBoard(log_dir=\"./tensorboard\")]"
   ]
  },
  {
   "cell_type": "code",
   "execution_count": 30,
   "id": "f8f0a6c3",
   "metadata": {},
   "outputs": [],
   "source": [
    "model.compile(optimizer='adam', loss='categorical_crossentropy', metrics=['accuracy'])"
   ]
  },
  {
   "cell_type": "code",
   "execution_count": 31,
   "id": "4a24c41c",
   "metadata": {
    "scrolled": true
   },
   "outputs": [
    {
     "name": "stdout",
     "output_type": "stream",
     "text": [
      "Epoch 1/200\n",
      "51/51 [==============================] - 15s 178ms/step - loss: 0.7911 - accuracy: 0.6219 - val_loss: 1.2222 - val_accuracy: 0.3582\n",
      "Epoch 2/200\n",
      "51/51 [==============================] - 6s 111ms/step - loss: 0.6762 - accuracy: 0.6915 - val_loss: 1.6555 - val_accuracy: 0.3582\n",
      "Epoch 3/200\n",
      "51/51 [==============================] - 6s 112ms/step - loss: 0.6123 - accuracy: 0.7413 - val_loss: 2.6511 - val_accuracy: 0.3582\n",
      "Epoch 4/200\n",
      "51/51 [==============================] - 6s 114ms/step - loss: 0.5384 - accuracy: 0.7662 - val_loss: 3.7662 - val_accuracy: 0.3582\n",
      "Epoch 5/200\n",
      "51/51 [==============================] - 6s 111ms/step - loss: 0.4655 - accuracy: 0.8159 - val_loss: 4.0418 - val_accuracy: 0.3582\n",
      "Epoch 6/200\n",
      "51/51 [==============================] - 6s 110ms/step - loss: 0.4860 - accuracy: 0.8060 - val_loss: 4.5615 - val_accuracy: 0.3582\n",
      "Epoch 7/200\n",
      "51/51 [==============================] - 6s 110ms/step - loss: 0.4662 - accuracy: 0.7910 - val_loss: 3.1669 - val_accuracy: 0.3582\n",
      "Epoch 8/200\n",
      "51/51 [==============================] - 6s 112ms/step - loss: 0.5800 - accuracy: 0.7313 - val_loss: 1.3311 - val_accuracy: 0.4776\n",
      "Epoch 9/200\n",
      "51/51 [==============================] - 6s 124ms/step - loss: 0.4579 - accuracy: 0.7960 - val_loss: 0.8429 - val_accuracy: 0.6269\n",
      "Epoch 10/200\n",
      "51/51 [==============================] - 6s 116ms/step - loss: 0.4856 - accuracy: 0.7562 - val_loss: 0.4083 - val_accuracy: 0.7761\n",
      "Epoch 11/200\n",
      "51/51 [==============================] - 6s 111ms/step - loss: 0.5057 - accuracy: 0.7562 - val_loss: 0.9808 - val_accuracy: 0.5821\n",
      "Epoch 12/200\n",
      "51/51 [==============================] - 6s 114ms/step - loss: 0.4197 - accuracy: 0.8060 - val_loss: 0.8398 - val_accuracy: 0.6716\n",
      "Epoch 13/200\n",
      "51/51 [==============================] - 6s 115ms/step - loss: 0.4092 - accuracy: 0.7662 - val_loss: 0.3156 - val_accuracy: 0.8657\n",
      "Epoch 14/200\n",
      "51/51 [==============================] - 6s 119ms/step - loss: 0.4139 - accuracy: 0.7761 - val_loss: 0.3009 - val_accuracy: 0.8358\n",
      "Epoch 15/200\n",
      "51/51 [==============================] - 6s 113ms/step - loss: 0.3822 - accuracy: 0.8159 - val_loss: 0.3072 - val_accuracy: 0.8507\n",
      "Epoch 16/200\n",
      "51/51 [==============================] - 6s 112ms/step - loss: 0.3919 - accuracy: 0.8259 - val_loss: 0.3136 - val_accuracy: 0.8358\n",
      "Epoch 17/200\n",
      "51/51 [==============================] - 6s 111ms/step - loss: 0.3721 - accuracy: 0.7960 - val_loss: 0.3050 - val_accuracy: 0.8507\n",
      "Epoch 18/200\n",
      "51/51 [==============================] - 6s 116ms/step - loss: 0.3567 - accuracy: 0.8458 - val_loss: 0.2768 - val_accuracy: 0.8507\n",
      "Epoch 19/200\n",
      "51/51 [==============================] - 6s 111ms/step - loss: 0.3797 - accuracy: 0.8259 - val_loss: 0.3469 - val_accuracy: 0.8657\n",
      "Epoch 20/200\n",
      "51/51 [==============================] - 6s 110ms/step - loss: 0.4358 - accuracy: 0.7910 - val_loss: 0.2999 - val_accuracy: 0.8657\n",
      "Epoch 21/200\n",
      "51/51 [==============================] - 6s 110ms/step - loss: 0.3476 - accuracy: 0.8109 - val_loss: 0.2874 - val_accuracy: 0.8358\n",
      "Epoch 22/200\n",
      "51/51 [==============================] - 6s 111ms/step - loss: 0.6548 - accuracy: 0.7512 - val_loss: 0.3106 - val_accuracy: 0.8806\n",
      "Epoch 23/200\n",
      "51/51 [==============================] - 6s 110ms/step - loss: 0.3990 - accuracy: 0.8109 - val_loss: 0.3458 - val_accuracy: 0.7910\n",
      "Epoch 24/200\n",
      "51/51 [==============================] - 6s 110ms/step - loss: 0.3126 - accuracy: 0.8308 - val_loss: 0.3380 - val_accuracy: 0.8209\n",
      "Epoch 25/200\n",
      "51/51 [==============================] - 6s 110ms/step - loss: 0.3623 - accuracy: 0.8557 - val_loss: 0.4296 - val_accuracy: 0.7313\n",
      "Epoch 26/200\n",
      "51/51 [==============================] - 6s 110ms/step - loss: 0.4453 - accuracy: 0.7363 - val_loss: 0.3364 - val_accuracy: 0.8209\n",
      "Epoch 27/200\n",
      "51/51 [==============================] - 6s 110ms/step - loss: 0.3738 - accuracy: 0.8458 - val_loss: 0.3069 - val_accuracy: 0.7910\n",
      "Epoch 28/200\n",
      "51/51 [==============================] - 6s 110ms/step - loss: 0.4515 - accuracy: 0.7811 - val_loss: 0.4241 - val_accuracy: 0.7612\n",
      "Epoch 29/200\n",
      "51/51 [==============================] - 6s 109ms/step - loss: 0.3334 - accuracy: 0.8458 - val_loss: 0.3080 - val_accuracy: 0.8358\n",
      "Epoch 30/200\n",
      "51/51 [==============================] - 6s 115ms/step - loss: 0.4560 - accuracy: 0.7910 - val_loss: 0.3341 - val_accuracy: 0.8060\n",
      "Epoch 31/200\n",
      "51/51 [==============================] - 6s 116ms/step - loss: 0.3108 - accuracy: 0.8209 - val_loss: 0.3125 - val_accuracy: 0.8358\n",
      "Epoch 32/200\n",
      "51/51 [==============================] - 6s 112ms/step - loss: 0.3794 - accuracy: 0.8010 - val_loss: 0.5790 - val_accuracy: 0.8060\n",
      "Epoch 33/200\n",
      "51/51 [==============================] - 6s 110ms/step - loss: 0.3983 - accuracy: 0.7960 - val_loss: 0.5474 - val_accuracy: 0.7612\n",
      "Epoch 34/200\n",
      "51/51 [==============================] - 6s 112ms/step - loss: 0.3364 - accuracy: 0.8209 - val_loss: 0.3195 - val_accuracy: 0.8209\n",
      "Epoch 35/200\n",
      "51/51 [==============================] - 6s 112ms/step - loss: 0.3643 - accuracy: 0.8458 - val_loss: 0.3426 - val_accuracy: 0.8060\n",
      "Epoch 36/200\n",
      "51/51 [==============================] - 6s 110ms/step - loss: 0.3753 - accuracy: 0.8159 - val_loss: 0.6298 - val_accuracy: 0.7612\n",
      "Epoch 37/200\n",
      "51/51 [==============================] - 6s 114ms/step - loss: 0.3214 - accuracy: 0.8259 - val_loss: 0.3453 - val_accuracy: 0.7612\n",
      "Epoch 38/200\n",
      "51/51 [==============================] - 6s 113ms/step - loss: 0.2643 - accuracy: 0.9154 - val_loss: 0.3937 - val_accuracy: 0.8060\n",
      "Epoch 39/200\n",
      "51/51 [==============================] - 6s 111ms/step - loss: 0.2822 - accuracy: 0.8856 - val_loss: 0.4501 - val_accuracy: 0.8209\n",
      "Epoch 40/200\n",
      "51/51 [==============================] - 6s 109ms/step - loss: 0.3556 - accuracy: 0.8358 - val_loss: 0.3386 - val_accuracy: 0.8358\n",
      "Epoch 41/200\n",
      "51/51 [==============================] - 6s 109ms/step - loss: 0.3253 - accuracy: 0.8458 - val_loss: 0.3256 - val_accuracy: 0.8358\n",
      "Epoch 42/200\n",
      "51/51 [==============================] - 6s 110ms/step - loss: 0.3000 - accuracy: 0.8507 - val_loss: 0.4279 - val_accuracy: 0.7761\n",
      "Epoch 43/200\n",
      "51/51 [==============================] - 6s 109ms/step - loss: 0.2790 - accuracy: 0.8856 - val_loss: 0.6777 - val_accuracy: 0.7612\n",
      "Epoch 44/200\n",
      "51/51 [==============================] - 6s 109ms/step - loss: 0.3325 - accuracy: 0.8458 - val_loss: 0.4823 - val_accuracy: 0.7463\n",
      "Epoch 45/200\n",
      "51/51 [==============================] - 6s 109ms/step - loss: 0.3405 - accuracy: 0.8557 - val_loss: 0.4304 - val_accuracy: 0.8060\n",
      "Epoch 46/200\n",
      "51/51 [==============================] - 6s 110ms/step - loss: 0.3650 - accuracy: 0.7960 - val_loss: 0.3481 - val_accuracy: 0.8358\n",
      "Epoch 47/200\n",
      "51/51 [==============================] - 6s 110ms/step - loss: 0.2930 - accuracy: 0.8607 - val_loss: 0.4756 - val_accuracy: 0.8060\n",
      "Epoch 48/200\n",
      "51/51 [==============================] - 6s 113ms/step - loss: 0.3439 - accuracy: 0.8458 - val_loss: 0.2740 - val_accuracy: 0.8657\n",
      "Epoch 49/200\n",
      "51/51 [==============================] - 6s 110ms/step - loss: 0.3187 - accuracy: 0.8806 - val_loss: 0.4308 - val_accuracy: 0.8507\n",
      "Epoch 50/200\n",
      "51/51 [==============================] - 6s 110ms/step - loss: 0.2933 - accuracy: 0.9104 - val_loss: 0.5318 - val_accuracy: 0.7463\n",
      "Epoch 51/200\n",
      "51/51 [==============================] - 6s 110ms/step - loss: 0.2363 - accuracy: 0.8806 - val_loss: 0.5209 - val_accuracy: 0.7910\n",
      "Epoch 52/200\n",
      "51/51 [==============================] - 6s 110ms/step - loss: 0.2809 - accuracy: 0.8706 - val_loss: 0.3037 - val_accuracy: 0.8209\n"
     ]
    }
   ],
   "source": [
    "train_generator.reset()\n",
    "validation_generator.reset()\n",
    "history = model.fit(train_generator, validation_data=validation_generator, epochs=epochs, callbacks=callbacks_list, batch_size=batch_size)"
   ]
  },
  {
   "cell_type": "markdown",
   "id": "7664ff1a",
   "metadata": {},
   "source": [
    "# Training Graphs"
   ]
  },
  {
   "cell_type": "code",
   "execution_count": 32,
   "id": "1b59a010",
   "metadata": {},
   "outputs": [
    {
     "data": {
      "text/plain": [
       "dict_keys(['loss', 'accuracy', 'val_loss', 'val_accuracy'])"
      ]
     },
     "execution_count": 32,
     "metadata": {},
     "output_type": "execute_result"
    }
   ],
   "source": [
    "history.history.keys()"
   ]
  },
  {
   "cell_type": "code",
   "execution_count": 33,
   "id": "d0f1efdc",
   "metadata": {},
   "outputs": [
    {
     "data": {
      "image/png": "[encoded data removed]",
      "text/plain": [
       "<Figure size 432x288 with 1 Axes>"
      ]
     },
     "metadata": {
      "needs_background": "light"
     },
     "output_type": "display_data"
    },
    {
     "data": {
      "image/png": "[encoded data removed]",
      "text/plain": [
       "<Figure size 432x288 with 1 Axes>"
      ]
     },
     "metadata": {
      "needs_background": "light"
     },
     "output_type": "display_data"
    }
   ],
   "source": [
    "acc = history.history['accuracy']\n",
    "val_acc = history.history['val_accuracy']\n",
    "loss = history.history['loss']\n",
    "val_loss = history.history['val_loss']\n",
    "\n",
    "epochs = range(len(acc))\n",
    "\n",
    "plt.plot(epochs, acc, 'bo', label='Training acc')\n",
    "plt.plot(epochs, val_acc, 'b', label='Validation acc')\n",
    "plt.title('Training and validation accuracy')\n",
    "plt.legend()\n",
    "\n",
    "plt.figure()\n",
    "\n",
    "plt.plot(epochs, loss, 'bo', label='Training loss')\n",
    "plt.plot(epochs, val_loss, 'b', label='Validation loss')\n",
    "plt.title('Training and validation loss')\n",
    "plt.legend()\n",
    "\n",
    "plt.show()"
   ]
  },
  {
   "cell_type": "markdown",
   "id": "422e0f76",
   "metadata": {},
   "source": [
    "# Reload the best model from Saved on Keras File\n",
    "\"We’ll reload the model from its saved file to evaluate it as it was before it started overfitting.\""
   ]
  },
  {
   "cell_type": "code",
   "execution_count": 35,
   "id": "826c8af5",
   "metadata": {},
   "outputs": [],
   "source": [
    "model = keras.models.load_model(\"checkpoint_path.keras\")"
   ]
  },
  {
   "cell_type": "code",
   "execution_count": 36,
   "id": "cf5de8e9",
   "metadata": {},
   "outputs": [
    {
     "name": "stdout",
     "output_type": "stream",
     "text": [
      "51/51 [==============================] - 2s 34ms/step - loss: 0.1990 - accuracy: 0.9104\n",
      "train_loss:  0.19902878999710083\n",
      "train_accuracy 0.9104477763175964\n"
     ]
    }
   ],
   "source": [
    "train_generator.reset()\n",
    "train_loss, train_accuracy = model.evaluate(train_generator)\n",
    "print(\"train_loss: \", train_loss)\n",
    "print(\"train_accuracy\", train_accuracy)"
   ]
  },
  {
   "cell_type": "markdown",
   "id": "2266be80",
   "metadata": {},
   "source": [
    "# Results"
   ]
  },
  {
   "cell_type": "code",
   "execution_count": 37,
   "id": "509fe081",
   "metadata": {},
   "outputs": [
    {
     "name": "stdout",
     "output_type": "stream",
     "text": [
      "51/51 [==============================] - 2s 35ms/step - loss: 0.1905 - accuracy: 0.9055\n",
      "train_loss:  0.1905057579278946\n",
      "train_accuracy 0.9054726362228394\n"
     ]
    }
   ],
   "source": [
    "train_generator.reset()\n",
    "train_loss, train_accuracy = model.evaluate(train_generator)\n",
    "print(\"train_loss: \", train_loss)\n",
    "print(\"train_accuracy\", train_accuracy)"
   ]
  },
  {
   "cell_type": "code",
   "execution_count": 38,
   "id": "8482fbe6",
   "metadata": {},
   "outputs": [
    {
     "name": "stdout",
     "output_type": "stream",
     "text": [
      "17/17 [==============================] - 1s 33ms/step - loss: 0.2835 - accuracy: 0.8657\n",
      "train_loss:  0.2835114002227783\n",
      "train_accuracy 0.8656716346740723\n"
     ]
    }
   ],
   "source": [
    "validation_generator.reset()\n",
    "val_loss, val_accuracy = model.evaluate(validation_generator)\n",
    "print(\"train_loss: \", val_loss)\n",
    "print(\"train_accuracy\", val_accuracy)"
   ]
  },
  {
   "cell_type": "code",
   "execution_count": 39,
   "id": "5d097b96",
   "metadata": {},
   "outputs": [
    {
     "name": "stdout",
     "output_type": "stream",
     "text": [
      "17/17 [==============================] - 1s 33ms/step - loss: 0.2908 - accuracy: 0.8676\n",
      "test_loss:  0.29075294733047485\n",
      "test_accuracy 0.8676470518112183\n"
     ]
    }
   ],
   "source": [
    "test_generator.reset()\n",
    "test_loss, test_accuracy = model.evaluate(test_generator)\n",
    "print(\"test_loss: \", test_loss)\n",
    "print(\"test_accuracy\", test_accuracy)"
   ]
  },
  {
   "cell_type": "markdown",
   "id": "d78138e7",
   "metadata": {},
   "source": [
    "# Save Model"
   ]
  },
  {
   "cell_type": "code",
   "execution_count": 40,
   "id": "2d8314f3",
   "metadata": {},
   "outputs": [
    {
     "name": "stdout",
     "output_type": "stream",
     "text": [
      "../models/new_cnn_testacc87\n"
     ]
    },
    {
     "name": "stderr",
     "output_type": "stream",
     "text": [
      "WARNING:absl:Found untraced functions such as _jit_compiled_convolution_op, _jit_compiled_convolution_op, _jit_compiled_convolution_op, _jit_compiled_convolution_op, _jit_compiled_convolution_op while saving (showing 5 of 21). These functions will not be directly callable after loading.\n"
     ]
    },
    {
     "name": "stdout",
     "output_type": "stream",
     "text": [
      "INFO:tensorflow:Assets written to: ../models/new_cnn_testacc87\\assets\n"
     ]
    },
    {
     "name": "stderr",
     "output_type": "stream",
     "text": [
      "INFO:tensorflow:Assets written to: ../models/new_cnn_testacc87\\assets\n"
     ]
    }
   ],
   "source": [
    "MODELS_PATH = \"../models\"\n",
    "\n",
    "model_name = \"new_cnn\"\n",
    "MODEL_PATH = f\"{MODELS_PATH}/{model_name}_testacc{round(test_accuracy*100)}\"\n",
    "print(MODEL_PATH)\n",
    "\n",
    "model.save(MODEL_PATH)"
   ]
  },
  {
   "cell_type": "markdown",
   "id": "2b2fdc1f",
   "metadata": {},
   "source": [
    "# Accuracy on Test Set"
   ]
  },
  {
   "cell_type": "code",
   "execution_count": 41,
   "id": "14ddaa53",
   "metadata": {},
   "outputs": [
    {
     "name": "stdout",
     "output_type": "stream",
     "text": [
      "17/17 [==============================] - 1s 48ms/step\n"
     ]
    }
   ],
   "source": [
    "test_generator.reset()\n",
    "test_pred = model.predict(test_generator)\n",
    "\n",
    "# Convert predictions classes to one hot vectors \n",
    "test_pred_classes = np.argmax(test_pred, axis = 1)"
   ]
  },
  {
   "cell_type": "code",
   "execution_count": 42,
   "id": "a954007e",
   "metadata": {
    "scrolled": true
   },
   "outputs": [
    {
     "data": {
      "text/plain": [
       "list"
      ]
     },
     "execution_count": 42,
     "metadata": {},
     "output_type": "execute_result"
    }
   ],
   "source": [
    "type(test_generator.classes)"
   ]
  },
  {
   "cell_type": "code",
   "execution_count": 43,
   "id": "eb0211bb",
   "metadata": {},
   "outputs": [
    {
     "name": "stdout",
     "output_type": "stream",
     "text": [
      "[1 2 0 0 0 1 0 1 0 0 1 0 0 0 2 2 2 0 2 2 2 0 2 2 0 1 2 0 2 2 0 1 1 2 2 2 0\n",
      " 2 1 2 1 0 2 1 0 2 2 0 0 2 2 1 2 1 1 2 2 0 0 1 0 1 2 0 2 0 0 2]\n"
     ]
    }
   ],
   "source": [
    "print(test_pred_classes)"
   ]
  },
  {
   "cell_type": "markdown",
   "id": "a587779e",
   "metadata": {},
   "source": [
    "# Confusion Matrix"
   ]
  },
  {
   "cell_type": "code",
   "execution_count": 44,
   "id": "06885e60",
   "metadata": {},
   "outputs": [
    {
     "data": {
      "image/png": "[encoded data removed]",
      "text/plain": [
       "<Figure size 576x576 with 2 Axes>"
      ]
     },
     "metadata": {
      "needs_background": "light"
     },
     "output_type": "display_data"
    }
   ],
   "source": [
    "# confusion matrix\n",
    "import seaborn as sns\n",
    " \n",
    "\n",
    "# compute the confusion matrix\n",
    "test_generator.reset()\n",
    "confusion_mtx = confusion_matrix(test_generator.classes, test_pred_classes) \n",
    "\n",
    "# plot the confusion matrix\n",
    "f,ax = plt.subplots(figsize=(8, 8))\n",
    "sns.heatmap(confusion_mtx, annot=True, linewidths=0.01,cmap=\"Greens\",linecolor=\"gray\", fmt= '.1f',ax=ax)\n",
    "plt.xlabel(\"Predicted Label\")\n",
    "plt.ylabel(\"True Label\")\n",
    "plt.title(\"Confusion Matrix\")\n",
    "plt.show()"
   ]
  },
  {
   "cell_type": "code",
   "execution_count": 45,
   "id": "38e87adb",
   "metadata": {},
   "outputs": [
    {
     "data": {
      "image/png": "[encoded data removed]",
      "text/plain": [
       "<Figure size 432x288 with 2 Axes>"
      ]
     },
     "metadata": {
      "needs_background": "light"
     },
     "output_type": "display_data"
    }
   ],
   "source": [
    "CATEGORIES = labels.values()\n",
    "\n",
    "ax= plt.subplot()\n",
    "sns.heatmap(confusion_mtx, annot=True, fmt=\"d\", ) \n",
    "plt.xlabel(\"Tahmin Edilen Sınıflar\")\n",
    "plt.ylabel(\"Doğru Sınıflar\")\n",
    "plt.title(\"CNN Karışıklık Matrisi\")\n",
    "ax.xaxis.set_ticklabels(CATEGORIES); ax.yaxis.set_ticklabels(CATEGORIES);\n",
    "plt.show()"
   ]
  },
  {
   "cell_type": "code",
   "execution_count": 46,
   "id": "1a72f237",
   "metadata": {},
   "outputs": [
    {
     "name": "stdout",
     "output_type": "stream",
     "text": [
      "Confusion Matrix\n",
      "[[25  0  0]\n",
      " [ 0 14  8]\n",
      " [ 0  1 20]]\n",
      "Classification Report\n",
      "              precision    recall  f1-score   support\n",
      "\n",
      "       covid       1.00      1.00      1.00        25\n",
      "infiltiratif       0.93      0.64      0.76        22\n",
      "      normal       0.71      0.95      0.82        21\n",
      "\n",
      "    accuracy                           0.87        68\n",
      "   macro avg       0.88      0.86      0.86        68\n",
      "weighted avg       0.89      0.87      0.86        68\n",
      "\n"
     ]
    }
   ],
   "source": [
    "#Confution Matrix and Classification Report\n",
    "print('Confusion Matrix')\n",
    "print(confusion_matrix(test_generator.classes, test_pred_classes))\n",
    "print('Classification Report')\n",
    "print(classification_report(test_generator.classes, test_pred_classes, target_names=CATEGORIES))"
   ]
  }
 ],
 "metadata": {
  "kernelspec": {
   "display_name": "tensorflow",
   "language": "python",
   "name": "tensorflow"
  },
  "language_info": {
   "codemirror_mode": {
    "name": "ipython",
    "version": 3
   },
   "file_extension": ".py",
   "mimetype": "text/x-python",
   "name": "python",
   "nbconvert_exporter": "python",
   "pygments_lexer": "ipython3",
   "version": "3.9.13"
  }
 },
 "nbformat": 4,
 "nbformat_minor": 5
}
