{
 "cells": [
  {
   "cell_type": "markdown",
   "id": "371229ca",
   "metadata": {},
   "source": [
    "# The CNN with ResNet backbone by transfer learning \n",
    "\n",
    "CHEST X-RAY IMAGES CLASSIFICATION WITH CNN"
   ]
  },
  {
   "cell_type": "code",
   "execution_count": 1,
   "id": "133e58e6",
   "metadata": {},
   "outputs": [
    {
     "name": "stdout",
     "output_type": "stream",
     "text": [
      "tensorflow version: 2.10.0\n",
      "numpy version: 1.23.4\n",
      "pandas version: 1.5.1\n"
     ]
    }
   ],
   "source": [
    "import tensorflow as tf\n",
    "import numpy as np\n",
    "import pandas as pd\n",
    "from matplotlib import pyplot as plt\n",
    "from sklearn.metrics import classification_report, confusion_matrix\n",
    "\n",
    "import os, shutil, pathlib\n",
    "\n",
    "\n",
    "print(\"tensorflow version:\", tf.__version__)\n",
    "print(\"numpy version:\", np.__version__)\n",
    "print(\"pandas version:\", pd.__version__)"
   ]
  },
  {
   "cell_type": "markdown",
   "id": "945c545e",
   "metadata": {},
   "source": [
    "## Paths of Data"
   ]
  },
  {
   "cell_type": "code",
   "execution_count": 2,
   "id": "198049bc",
   "metadata": {},
   "outputs": [
    {
     "data": {
      "text/plain": [
       "'../data/20210708_görüntüler'"
      ]
     },
     "execution_count": 2,
     "metadata": {},
     "output_type": "execute_result"
    }
   ],
   "source": [
    "DATA_PATH = \"../data\"\n",
    "RAW_DATASET_NAME = \"20210708_görüntüler\"   # raw dataset folder name\n",
    "SUB_FOLDERS_PATH = f\"{DATA_PATH}/{RAW_DATASET_NAME}\"  # sub class folders\n",
    "MODELS_PATH = \"../models\"\n",
    "\n",
    "SUB_FOLDERS_PATH"
   ]
  },
  {
   "cell_type": "code",
   "execution_count": 3,
   "id": "4016f06c",
   "metadata": {},
   "outputs": [
    {
     "data": {
      "text/plain": [
       "['20210708_görüntüler', 'images_1', 'manuel_differet_person']"
      ]
     },
     "execution_count": 3,
     "metadata": {},
     "output_type": "execute_result"
    }
   ],
   "source": [
    "os.listdir(DATA_PATH)"
   ]
  },
  {
   "cell_type": "code",
   "execution_count": 4,
   "id": "679c3869",
   "metadata": {},
   "outputs": [
    {
     "data": {
      "text/plain": [
       "{'covid+ ac grafileri': 'covid',\n",
       " 'infiltratif akciğer hastası grafileri': 'infiltiratif',\n",
       " 'normal akciğer grafileri': 'normal'}"
      ]
     },
     "execution_count": 4,
     "metadata": {},
     "output_type": "execute_result"
    }
   ],
   "source": [
    "labels = {\"covid+ ac grafileri\" : \"covid\",\n",
    "         \"infiltratif akciğer hastası grafileri\" : \"infiltiratif\",\n",
    "         \"normal akciğer grafileri\": \"normal\"}\n",
    "\n",
    "labels"
   ]
  },
  {
   "cell_type": "code",
   "execution_count": 5,
   "id": "5c51e683",
   "metadata": {},
   "outputs": [
    {
     "data": {
      "text/plain": [
       "dict_values(['covid', 'infiltiratif', 'normal'])"
      ]
     },
     "execution_count": 5,
     "metadata": {},
     "output_type": "execute_result"
    }
   ],
   "source": [
    "labels.values()"
   ]
  },
  {
   "cell_type": "markdown",
   "id": "f013e1a5",
   "metadata": {},
   "source": [
    "# Prepare Data"
   ]
  },
  {
   "cell_type": "code",
   "execution_count": 6,
   "id": "6a731c52",
   "metadata": {},
   "outputs": [],
   "source": [
    "def dataframe_for_folders(DATA_PATH, DATASET_NAME, labels):\n",
    "    \"\"\"create dataframe from data folders that every folder has one class data\n",
    "    \n",
    "    It prepares dataframe to put in  TF flow_from_dataframe function\n",
    "    \n",
    "    Args:\n",
    "        DATA_PATH : parent folder relative path of DATASET_NAME. It contains all of data files.\n",
    "        DATASET_NAME : dataset name which wanted to use - path from DATA_PATH to classes folders\n",
    "        labels: a dict that contains folder names according to classes\n",
    "        \n",
    "    Returns:\n",
    "        A pandas dataframe that has relative path to the dataset_name of data and labels\n",
    "    \"\"\"\n",
    "    CLASS_FOLDERS_PATHS = os.listdir(f\"{DATA_PATH}/{DATASET_NAME}\")\n",
    "    \n",
    "    df = pd.DataFrame(columns=[\"path\", \"label\"])  # empty dataframe\n",
    "    \n",
    "    for i in CLASS_FOLDERS_PATHS:\n",
    "        # list files - images\n",
    "        list_of_files = os.listdir(f\"{DATASET_NAME}/{i}\")\n",
    "        \n",
    "        for k, name in enumerate(list_of_files):\n",
    "            list_of_files[k] = f\"{i}/\"+name       # add parent folder\n",
    "\n",
    "        df = pd.concat([df, pd.DataFrame(list_of_files, columns=[\"path\"])], ignore_index=True)\n",
    "        df.fillna(labels[i], inplace=True)  # label column is NaN, so we put labels every iteration. because every folder has one class        \n",
    "    \n",
    "#     df.reset_index(inplace = True)  \n",
    "    \n",
    "    return df"
   ]
  },
  {
   "cell_type": "code",
   "execution_count": 7,
   "id": "da76efe5",
   "metadata": {},
   "outputs": [
    {
     "name": "stdout",
     "output_type": "stream",
     "text": [
      "<class 'pandas.core.frame.DataFrame'>\n",
      "RangeIndex: 336 entries, 0 to 335\n",
      "Data columns (total 2 columns):\n",
      " #   Column  Non-Null Count  Dtype \n",
      "---  ------  --------------  ----- \n",
      " 0   path    336 non-null    object\n",
      " 1   label   336 non-null    object\n",
      "dtypes: object(2)\n",
      "memory usage: 5.4+ KB\n"
     ]
    }
   ],
   "source": [
    "df = dataframe_for_folders(DATA_PATH=DATA_PATH, DATASET_NAME=SUB_FOLDERS_PATH, labels=labels)\n",
    "\n",
    "df.info()"
   ]
  },
  {
   "cell_type": "markdown",
   "id": "d3b07560",
   "metadata": {},
   "source": [
    "## Split Train and Test Data"
   ]
  },
  {
   "cell_type": "code",
   "execution_count": 8,
   "id": "e39c6441",
   "metadata": {},
   "outputs": [],
   "source": [
    "from sklearn.model_selection import train_test_split\n",
    "\n",
    "random_state=41\n",
    "test_size = 0.2\n",
    "df_train, df_test = train_test_split(df , test_size = test_size, random_state=random_state)"
   ]
  },
  {
   "cell_type": "code",
   "execution_count": 9,
   "id": "14cdba04",
   "metadata": {},
   "outputs": [
    {
     "name": "stdout",
     "output_type": "stream",
     "text": [
      "covid           128\n",
      "normal          107\n",
      "infiltiratif    101\n",
      "Name: label, dtype: int64\n"
     ]
    },
    {
     "data": {
      "text/plain": [
       "Text(0.5, 1.0, 'Rates of Classes on All of Data')"
      ]
     },
     "execution_count": 9,
     "metadata": {},
     "output_type": "execute_result"
    },
    {
     "data": {
      "image/png": "[encoded data removed]",
      "text/plain": [
       "<Figure size 360x360 with 1 Axes>"
      ]
     },
     "metadata": {},
     "output_type": "display_data"
    }
   ],
   "source": [
    "# Rates of Classes on All of Data\n",
    "print(df.label.value_counts())\n",
    "\n",
    "colors = [\"#22a7f0\",\"#c9e52f\", \"#66ffcc\"]\n",
    "# classes = ['covid', 'normal', \"infiltiratif\"]\n",
    "classes = df.label.value_counts().index\n",
    "explode = [0, 0.05, 0.07]\n",
    "\n",
    "plt.figure(figsize = (5,5))\n",
    "plt.pie(df.label.value_counts(), explode=explode, labels=classes, colors=colors, autopct='%1.1f%%')\n",
    "plt.title(\"Rates of Classes on All of Data\", color = 'blue',fontsize = 14)"
   ]
  },
  {
   "cell_type": "code",
   "execution_count": 10,
   "id": "87684aea",
   "metadata": {},
   "outputs": [
    {
     "name": "stdout",
     "output_type": "stream",
     "text": [
      "covid           103\n",
      "normal           86\n",
      "infiltiratif     79\n",
      "Name: label, dtype: int64\n"
     ]
    },
    {
     "data": {
      "text/plain": [
       "Text(0.5, 1.0, 'Rates of Classes on Train Data')"
      ]
     },
     "execution_count": 10,
     "metadata": {},
     "output_type": "execute_result"
    },
    {
     "data": {
      "image/png": "[encoded data removed]",
      "text/plain": [
       "<Figure size 360x360 with 1 Axes>"
      ]
     },
     "metadata": {},
     "output_type": "display_data"
    }
   ],
   "source": [
    "# Rates of Classes on Train Data\n",
    "print(df_train.label.value_counts())\n",
    "\n",
    "colors = [\"#22a7f0\",\"#c9e52f\", \"#66ffcc\"]\n",
    "# classes = ['covid', 'normal', \"infiltiratif\"]\n",
    "classes = df_train.label.value_counts().index\n",
    "explode = [0, 0.05, 0.07]\n",
    "\n",
    "plt.figure(figsize = (5,5))\n",
    "plt.pie(df_train.label.value_counts(), explode=explode, labels=classes, colors=colors, autopct='%1.1f%%')\n",
    "plt.title(\"Rates of Classes on Train Data\", color = 'blue',fontsize = 14)"
   ]
  },
  {
   "cell_type": "code",
   "execution_count": 11,
   "id": "fcae1b57",
   "metadata": {},
   "outputs": [
    {
     "name": "stdout",
     "output_type": "stream",
     "text": [
      "covid           25\n",
      "infiltiratif    22\n",
      "normal          21\n",
      "Name: label, dtype: int64\n"
     ]
    },
    {
     "data": {
      "text/plain": [
       "Text(0.5, 1.0, 'Rates of Classes on Test Data')"
      ]
     },
     "execution_count": 11,
     "metadata": {},
     "output_type": "execute_result"
    },
    {
     "data": {
      "image/png": "[encoded data removed]",
      "text/plain": [
       "<Figure size 360x360 with 1 Axes>"
      ]
     },
     "metadata": {},
     "output_type": "display_data"
    }
   ],
   "source": [
    "# Rates of Classes on Test Data\n",
    "print(df_test.label.value_counts())\n",
    "\n",
    "colors = [\"#22a7f0\",\"#c9e52f\", \"#66ffcc\"]\n",
    "# classes = ['covid', 'normal', \"infiltiratif\"]\n",
    "classes = df_test.label.value_counts().index\n",
    "explode = [0, 0.05, 0.07]\n",
    "\n",
    "plt.figure(figsize = (5,5))\n",
    "plt.pie(df_test.label.value_counts(), explode=explode, labels=classes, colors=colors, autopct='%1.1f%%')\n",
    "plt.title(\"Rates of Classes on Test Data\", color = 'blue',fontsize = 14)"
   ]
  },
  {
   "cell_type": "markdown",
   "id": "3ba07853",
   "metadata": {},
   "source": [
    "# Preprocessing"
   ]
  },
  {
   "cell_type": "code",
   "execution_count": 12,
   "id": "e0f4edf4",
   "metadata": {},
   "outputs": [],
   "source": [
    "from tensorflow import keras\n",
    "from tensorflow.keras import layers\n",
    "from tensorflow.keras.preprocessing.image import ImageDataGenerator"
   ]
  },
  {
   "cell_type": "code",
   "execution_count": 13,
   "id": "fb28b66a",
   "metadata": {},
   "outputs": [
    {
     "data": {
      "text/plain": [
       "'../data/20210708_görüntüler'"
      ]
     },
     "execution_count": 13,
     "metadata": {},
     "output_type": "execute_result"
    }
   ],
   "source": [
    "SUB_FOLDERS_PATH"
   ]
  },
  {
   "cell_type": "code",
   "execution_count": 14,
   "id": "23328f9a",
   "metadata": {},
   "outputs": [],
   "source": [
    "def plot_history(history):\n",
    "    acc = history.history['accuracy']\n",
    "    val_acc = history.history['val_accuracy']\n",
    "    loss = history.history['loss']\n",
    "    val_loss = history.history['val_loss']\n",
    "\n",
    "    epochs = range(len(acc))\n",
    "\n",
    "    plt.plot(epochs, acc, 'bo', label='Training acc')\n",
    "    plt.plot(epochs, val_acc, 'b', label='Validation acc')\n",
    "    plt.title('Training and validation accuracy')\n",
    "    plt.legend()\n",
    "\n",
    "    plt.figure()\n",
    "\n",
    "    plt.plot(epochs, loss, 'bo', label='Training loss')\n",
    "    plt.plot(epochs, val_loss, 'b', label='Validation loss')\n",
    "    plt.title('Training and validation loss')\n",
    "    plt.legend()\n",
    "\n",
    "    plt.show()"
   ]
  },
  {
   "cell_type": "markdown",
   "id": "6556bd09",
   "metadata": {},
   "source": [
    "# Resnet"
   ]
  },
  {
   "cell_type": "code",
   "execution_count": 16,
   "id": "57b1f3a0",
   "metadata": {},
   "outputs": [
    {
     "name": "stdout",
     "output_type": "stream",
     "text": [
      "Found 201 validated image filenames belonging to 3 classes.\n",
      "Found 67 validated image filenames belonging to 3 classes.\n",
      "Found 68 validated image filenames belonging to 3 classes.\n"
     ]
    }
   ],
   "source": [
    "width = 480\n",
    "height = 480\n",
    "\n",
    "input_size = (width, height)\n",
    "input_shape = (width, height,3)\n",
    "\n",
    "batch_size = 4\n",
    "val_batch_size = 4\n",
    "test_batch_size = 4\n",
    "\n",
    "epochs = 50\n",
    "\n",
    "train_datagen = ImageDataGenerator(validation_split=0.25)\n",
    "test_datagen = ImageDataGenerator()\n",
    "\n",
    "\n",
    "\n",
    "train_generator = train_datagen.flow_from_dataframe(dataframe=df_train,\n",
    "                                            directory=SUB_FOLDERS_PATH,\n",
    "                                            x_col=\"path\",\n",
    "                                            y_col=\"label\",\n",
    "                                            subset=\"training\",\n",
    "                                            batch_size=batch_size,\n",
    "                                            seed=42,\n",
    "                                            shuffle=True,\n",
    "                                            class_mode=\"categorical\",\n",
    "                                            target_size=input_size)\n",
    "\n",
    "validation_generator = train_datagen.flow_from_dataframe(dataframe=df_train,\n",
    "                                            directory=SUB_FOLDERS_PATH,\n",
    "                                            x_col=\"path\",\n",
    "                                            y_col=\"label\",\n",
    "                                            subset=\"validation\",\n",
    "                                            batch_size=val_batch_size,\n",
    "                                            seed=42,\n",
    "                                            shuffle=True,\n",
    "                                            class_mode=\"categorical\",\n",
    "                                            target_size=input_size)\n",
    "\n",
    "test_generator = test_datagen.flow_from_dataframe(dataframe=df_test,\n",
    "                                            directory=SUB_FOLDERS_PATH,\n",
    "                                            x_col=\"path\",\n",
    "                                            y_col=\"label\",\n",
    "                                            batch_size=test_batch_size,\n",
    "                                            seed=42,\n",
    "                                            shuffle=False,\n",
    "                                            class_mode=\"categorical\",\n",
    "                                            target_size=input_size)\n",
    "\n",
    "resnet50 = tf.keras.applications.resnet50.ResNet50(include_top=False,\n",
    "                                                   weights='imagenet',\n",
    "                                                   input_shape=input_shape,\n",
    "                                                   pooling=None)\n",
    "\n",
    "resnet50.trainable = False\n",
    "\n",
    "\n",
    "def build_model(input_shape=input_shape):\n",
    "\n",
    "    inputs = keras.Input(shape=input_shape)\n",
    "    x = tf.keras.applications.resnet50.preprocess_input(inputs)\n",
    "    x = resnet50(x)\n",
    "    x = layers.Flatten()(x)\n",
    "    \n",
    "    x = layers.Dense(64, activation=\"relu\")(x)\n",
    "    x = layers.BatchNormalization()(x)\n",
    "    outputs = layers.Dense(3, activation=\"softmax\")(x)\n",
    "    \n",
    "    model = keras.Model(inputs=inputs, outputs=outputs)\n",
    "    \n",
    "    model.compile(loss=\"categorical_crossentropy\", optimizer=\"rmsprop\", metrics=[\"accuracy\"])\n",
    "    \n",
    "    return model"
   ]
  },
  {
   "cell_type": "code",
   "execution_count": 17,
   "id": "7a988d35",
   "metadata": {},
   "outputs": [],
   "source": [
    "callbacks_list = [keras.callbacks.EarlyStopping(monitor=\"val_accuracy\",\n",
    "                                                patience=10,),\n",
    "                  keras.callbacks.ModelCheckpoint(filepath=\"checkpoint_path.keras\",\n",
    "                                                  monitor=\"val_loss\",\n",
    "                                                  save_best_only=True,)]"
   ]
  },
  {
   "cell_type": "code",
   "execution_count": 18,
   "id": "ba5d9850",
   "metadata": {},
   "outputs": [
    {
     "name": "stdout",
     "output_type": "stream",
     "text": [
      "Model: \"model\"\n",
      "_________________________________________________________________\n",
      " Layer (type)                Output Shape              Param #   \n",
      "=================================================================\n",
      " input_2 (InputLayer)        [(None, 480, 480, 3)]     0         \n",
      "                                                                 \n",
      " tf.__operators__.getitem (S  (None, 480, 480, 3)      0         \n",
      " licingOpLambda)                                                 \n",
      "                                                                 \n",
      " tf.nn.bias_add (TFOpLambda)  (None, 480, 480, 3)      0         \n",
      "                                                                 \n",
      " resnet50 (Functional)       (None, 15, 15, 2048)      23587712  \n",
      "                                                                 \n",
      " flatten (Flatten)           (None, 460800)            0         \n",
      "                                                                 \n",
      " dense (Dense)               (None, 64)                29491264  \n",
      "                                                                 \n",
      " batch_normalization (BatchN  (None, 64)               256       \n",
      " ormalization)                                                   \n",
      "                                                                 \n",
      " dense_1 (Dense)             (None, 3)                 195       \n",
      "                                                                 \n",
      "=================================================================\n",
      "Total params: 53,079,427\n",
      "Trainable params: 29,491,587\n",
      "Non-trainable params: 23,587,840\n",
      "_________________________________________________________________\n"
     ]
    }
   ],
   "source": [
    "model = build_model(input_shape)\n",
    "model.summary()"
   ]
  },
  {
   "cell_type": "code",
   "execution_count": 19,
   "id": "4a24c41c",
   "metadata": {},
   "outputs": [],
   "source": [
    "history = model.fit(train_generator, \n",
    "                    validation_data=validation_generator, \n",
    "                    epochs=epochs, \n",
    "                    callbacks=callbacks_list, \n",
    "                    batch_size=batch_size,\n",
    "                    verbose=0)"
   ]
  },
  {
   "cell_type": "markdown",
   "id": "84f21a91",
   "metadata": {},
   "source": [
    "# Training Graphs"
   ]
  },
  {
   "cell_type": "code",
   "execution_count": 20,
   "id": "da59ca32",
   "metadata": {},
   "outputs": [
    {
     "data": {
      "text/plain": [
       "dict_keys(['loss', 'accuracy', 'val_loss', 'val_accuracy'])"
      ]
     },
     "execution_count": 20,
     "metadata": {},
     "output_type": "execute_result"
    }
   ],
   "source": [
    "history.history.keys()"
   ]
  },
  {
   "cell_type": "code",
   "execution_count": 21,
   "id": "d9eaf57c",
   "metadata": {},
   "outputs": [
    {
     "data": {
      "image/png": "[encoded data removed]",
      "text/plain": [
       "<Figure size 432x288 with 1 Axes>"
      ]
     },
     "metadata": {
      "needs_background": "light"
     },
     "output_type": "display_data"
    },
    {
     "data": {
      "image/png": "[encoded data removed]",
      "text/plain": [
       "<Figure size 432x288 with 1 Axes>"
      ]
     },
     "metadata": {
      "needs_background": "light"
     },
     "output_type": "display_data"
    }
   ],
   "source": [
    "plot_history(history)"
   ]
  },
  {
   "cell_type": "markdown",
   "id": "65d5bc3f",
   "metadata": {},
   "source": [
    "# Before Load Best Model"
   ]
  },
  {
   "cell_type": "code",
   "execution_count": 22,
   "id": "a25669ca",
   "metadata": {},
   "outputs": [
    {
     "name": "stdout",
     "output_type": "stream",
     "text": [
      "51/51 [==============================] - 5s 96ms/step - loss: 8.6089e-05 - accuracy: 1.0000\n",
      "train_loss:  8.608915959484875e-05\n",
      "train_accuracy 1.0\n"
     ]
    }
   ],
   "source": [
    "train_generator.reset()\n",
    "train_loss, train_accuracy = model.evaluate(train_generator)\n",
    "print(\"train_loss: \", train_loss)\n",
    "print(\"train_accuracy\", train_accuracy)"
   ]
  },
  {
   "cell_type": "code",
   "execution_count": 23,
   "id": "41d9427f",
   "metadata": {},
   "outputs": [
    {
     "name": "stdout",
     "output_type": "stream",
     "text": [
      "17/17 [==============================] - 2s 96ms/step - loss: 0.4306 - accuracy: 0.8955\n",
      "train_loss:  0.4305694103240967\n",
      "train_accuracy 0.89552241563797\n"
     ]
    }
   ],
   "source": [
    "validation_generator.reset()\n",
    "val_loss, val_accuracy = model.evaluate(validation_generator)\n",
    "print(\"train_loss: \", val_loss)\n",
    "print(\"train_accuracy\", val_accuracy)"
   ]
  },
  {
   "cell_type": "code",
   "execution_count": 24,
   "id": "4fcc7bc2",
   "metadata": {},
   "outputs": [
    {
     "name": "stdout",
     "output_type": "stream",
     "text": [
      "17/17 [==============================] - 2s 98ms/step - loss: 0.4152 - accuracy: 0.8529\n",
      "test_loss:  0.415237158536911\n",
      "test_accuracy 0.8529411554336548\n"
     ]
    }
   ],
   "source": [
    "test_generator.reset()\n",
    "test_loss, test_accuracy = model.evaluate(test_generator)\n",
    "print(\"test_loss: \", test_loss)\n",
    "print(\"test_accuracy\", test_accuracy)"
   ]
  },
  {
   "cell_type": "markdown",
   "id": "0172800b",
   "metadata": {},
   "source": [
    "# Reload the best model from Keras File\n",
    "\"We’ll reload the model from its saved file to evaluate it as it was before it started overfitting.\""
   ]
  },
  {
   "cell_type": "code",
   "execution_count": 27,
   "id": "9698f3ac",
   "metadata": {},
   "outputs": [],
   "source": [
    "model = keras.models.load_model(\"checkpoint_path.keras\")"
   ]
  },
  {
   "cell_type": "markdown",
   "id": "c7a64609",
   "metadata": {},
   "source": [
    "# Best Model Results"
   ]
  },
  {
   "cell_type": "code",
   "execution_count": 28,
   "id": "938d33ea",
   "metadata": {},
   "outputs": [
    {
     "name": "stdout",
     "output_type": "stream",
     "text": [
      "51/51 [==============================] - 6s 97ms/step - loss: 0.0071 - accuracy: 0.9950\n",
      "train_loss:  0.007082159165292978\n",
      "train_accuracy 0.9950248599052429\n"
     ]
    }
   ],
   "source": [
    "train_generator.reset()\n",
    "train_loss, train_accuracy = model.evaluate(train_generator)\n",
    "print(\"train_loss: \", train_loss)\n",
    "print(\"train_accuracy\", train_accuracy)"
   ]
  },
  {
   "cell_type": "code",
   "execution_count": 29,
   "id": "82580e44",
   "metadata": {},
   "outputs": [
    {
     "name": "stdout",
     "output_type": "stream",
     "text": [
      "17/17 [==============================] - 2s 97ms/step - loss: 0.3084 - accuracy: 0.9104\n",
      "train_loss:  0.3084130883216858\n",
      "train_accuracy 0.9104477763175964\n"
     ]
    }
   ],
   "source": [
    "validation_generator.reset()\n",
    "val_loss, val_accuracy = model.evaluate(validation_generator)\n",
    "print(\"train_loss: \", val_loss)\n",
    "print(\"train_accuracy\", val_accuracy)"
   ]
  },
  {
   "cell_type": "code",
   "execution_count": 30,
   "id": "8e872dfa",
   "metadata": {},
   "outputs": [
    {
     "name": "stdout",
     "output_type": "stream",
     "text": [
      "17/17 [==============================] - 2s 98ms/step - loss: 0.3194 - accuracy: 0.8971\n",
      "test_loss:  0.3193570375442505\n",
      "test_accuracy 0.8970588445663452\n"
     ]
    }
   ],
   "source": [
    "test_generator.reset()\n",
    "test_loss, test_accuracy = model.evaluate(test_generator)\n",
    "print(\"test_loss: \", test_loss)\n",
    "print(\"test_accuracy\", test_accuracy)"
   ]
  },
  {
   "cell_type": "markdown",
   "id": "f5c94483",
   "metadata": {},
   "source": [
    "# Save Model"
   ]
  },
  {
   "cell_type": "code",
   "execution_count": 26,
   "id": "51b26966",
   "metadata": {},
   "outputs": [
    {
     "name": "stderr",
     "output_type": "stream",
     "text": [
      "WARNING:absl:Found untraced functions such as _jit_compiled_convolution_op, _jit_compiled_convolution_op, _jit_compiled_convolution_op, _jit_compiled_convolution_op, _jit_compiled_convolution_op while saving (showing 5 of 53). These functions will not be directly callable after loading.\n"
     ]
    },
    {
     "name": "stdout",
     "output_type": "stream",
     "text": [
      "INFO:tensorflow:Assets written to: ../models/resnet_model\\assets\n"
     ]
    },
    {
     "name": "stderr",
     "output_type": "stream",
     "text": [
      "INFO:tensorflow:Assets written to: ../models/resnet_model\\assets\n"
     ]
    }
   ],
   "source": [
    "MODELS_PATH = \"../models\"\n",
    "MODEL_PATH = f\"{MODELS_PATH}/resnet_model\"\n",
    "\n",
    "model.save(MODEL_PATH)"
   ]
  },
  {
   "cell_type": "markdown",
   "id": "2b2fdc1f",
   "metadata": {},
   "source": [
    "# Accuracy on Test Set"
   ]
  },
  {
   "cell_type": "code",
   "execution_count": 31,
   "id": "14ddaa53",
   "metadata": {},
   "outputs": [
    {
     "name": "stdout",
     "output_type": "stream",
     "text": [
      "17/17 [==============================] - 2s 94ms/step\n"
     ]
    }
   ],
   "source": [
    "test_generator.reset()\n",
    "test_pred = model.predict(test_generator)\n",
    "\n",
    "# Convert predictions classes to one hot vectors \n",
    "test_pred_classes = np.argmax(test_pred, axis = 1)"
   ]
  },
  {
   "cell_type": "markdown",
   "id": "a587779e",
   "metadata": {},
   "source": [
    "# Confusion Matrix"
   ]
  },
  {
   "cell_type": "code",
   "execution_count": 32,
   "id": "06885e60",
   "metadata": {},
   "outputs": [
    {
     "data": {
      "image/png": "[encoded data removed]",
      "text/plain": [
       "<Figure size 576x576 with 2 Axes>"
      ]
     },
     "metadata": {
      "needs_background": "light"
     },
     "output_type": "display_data"
    }
   ],
   "source": [
    "# confusion matrix\n",
    "import seaborn as sns\n",
    " \n",
    "\n",
    "# compute the confusion matrix\n",
    "confusion_mtx = confusion_matrix(test_generator.classes, test_pred_classes) \n",
    "\n",
    "# plot the confusion matrix\n",
    "f,ax = plt.subplots(figsize=(8, 8))\n",
    "sns.heatmap(confusion_mtx, annot=True, linewidths=0.01,cmap=\"Greens\",linecolor=\"gray\", fmt= '.1f',ax=ax)\n",
    "plt.xlabel(\"Predicted Label\")\n",
    "plt.ylabel(\"True Label\")\n",
    "plt.title(\"Confusion Matrix\")\n",
    "plt.show()"
   ]
  },
  {
   "cell_type": "code",
   "execution_count": 33,
   "id": "38e87adb",
   "metadata": {},
   "outputs": [
    {
     "data": {
      "image/png": "[encoded data removed]",
      "text/plain": [
       "<Figure size 432x288 with 2 Axes>"
      ]
     },
     "metadata": {
      "needs_background": "light"
     },
     "output_type": "display_data"
    }
   ],
   "source": [
    "CATEGORIES = labels.values()\n",
    "\n",
    "ax= plt.subplot()\n",
    "sns.heatmap(confusion_mtx, annot=True, fmt=\"d\", ) \n",
    "plt.xlabel(\"Tahmin Edilen Sınıflar\")\n",
    "plt.ylabel(\"Doğru Sınıflar\")\n",
    "plt.title(\"CNN Karışıklık Matrisi\")\n",
    "ax.xaxis.set_ticklabels(CATEGORIES); ax.yaxis.set_ticklabels(CATEGORIES);\n",
    "plt.show()"
   ]
  },
  {
   "cell_type": "code",
   "execution_count": 34,
   "id": "1a72f237",
   "metadata": {},
   "outputs": [
    {
     "name": "stdout",
     "output_type": "stream",
     "text": [
      "Confusion Matrix\n",
      "[[25  0  0]\n",
      " [ 0 18  4]\n",
      " [ 0  3 18]]\n",
      "Classification Report\n",
      "              precision    recall  f1-score   support\n",
      "\n",
      "       covid       1.00      1.00      1.00        25\n",
      "infiltiratif       0.86      0.82      0.84        22\n",
      "      normal       0.82      0.86      0.84        21\n",
      "\n",
      "    accuracy                           0.90        68\n",
      "   macro avg       0.89      0.89      0.89        68\n",
      "weighted avg       0.90      0.90      0.90        68\n",
      "\n"
     ]
    }
   ],
   "source": [
    "#Confution Matrix and Classification Report\n",
    "print('Confusion Matrix')\n",
    "print(confusion_matrix(test_generator.classes, test_pred_classes))\n",
    "print('Classification Report')\n",
    "print(classification_report(test_generator.classes, test_pred_classes, target_names=CATEGORIES))"
   ]
  }
 ],
 "metadata": {
  "kernelspec": {
   "display_name": "tensorflow",
   "language": "python",
   "name": "tensorflow"
  },
  "language_info": {
   "codemirror_mode": {
    "name": "ipython",
    "version": 3
   },
   "file_extension": ".py",
   "mimetype": "text/x-python",
   "name": "python",
   "nbconvert_exporter": "python",
   "pygments_lexer": "ipython3",
   "version": "3.9.13"
  }
 },
 "nbformat": 4,
 "nbformat_minor": 5
}
